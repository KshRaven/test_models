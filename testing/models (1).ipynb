{
 "cells": [
  {
   "cell_type": "markdown",
   "source": [
    "# 1. Imports"
   ],
   "metadata": {
    "collapsed": false,
    "pycharm": {
     "name": "#%% md\n"
    },
    "id": "bf0Jt8Pcxk65"
   }
  },
  {
   "cell_type": "code",
   "source": [
    "!rm -rf test_models\n",
    "!git clone https://github.com/KshRaven/test_models.git"
   ],
   "metadata": {
    "colab": {
     "base_uri": "https://localhost:8080/"
    },
    "id": "egp6YTh4xoFB",
    "outputId": "579b15dd-7379-4235-a8d9-0f1e39941b3a",
    "pycharm": {
     "name": "#%%\n"
    }
   },
   "execution_count": 1,
   "outputs": [
    {
     "output_type": "stream",
     "name": "stdout",
     "text": [
      "Cloning into 'test_models'...\n",
      "remote: Enumerating objects: 66, done.\u001B[K\n",
      "remote: Counting objects:   1% (1/66)\u001B[K\rremote: Counting objects:   3% (2/66)\u001B[K\rremote: Counting objects:   4% (3/66)\u001B[K\rremote: Counting objects:   6% (4/66)\u001B[K\rremote: Counting objects:   7% (5/66)\u001B[K\rremote: Counting objects:   9% (6/66)\u001B[K\rremote: Counting objects:  10% (7/66)\u001B[K\rremote: Counting objects:  12% (8/66)\u001B[K\rremote: Counting objects:  13% (9/66)\u001B[K\rremote: Counting objects:  15% (10/66)\u001B[K\rremote: Counting objects:  16% (11/66)\u001B[K\rremote: Counting objects:  18% (12/66)\u001B[K\rremote: Counting objects:  19% (13/66)\u001B[K\rremote: Counting objects:  21% (14/66)\u001B[K\rremote: Counting objects:  22% (15/66)\u001B[K\rremote: Counting objects:  24% (16/66)\u001B[K\rremote: Counting objects:  25% (17/66)\u001B[K\rremote: Counting objects:  27% (18/66)\u001B[K\rremote: Counting objects:  28% (19/66)\u001B[K\rremote: Counting objects:  30% (20/66)\u001B[K\rremote: Counting objects:  31% (21/66)\u001B[K\rremote: Counting objects:  33% (22/66)\u001B[K\rremote: Counting objects:  34% (23/66)\u001B[K\rremote: Counting objects:  36% (24/66)\u001B[K\rremote: Counting objects:  37% (25/66)\u001B[K\rremote: Counting objects:  39% (26/66)\u001B[K\rremote: Counting objects:  40% (27/66)\u001B[K\rremote: Counting objects:  42% (28/66)\u001B[K\rremote: Counting objects:  43% (29/66)\u001B[K\rremote: Counting objects:  45% (30/66)\u001B[K\rremote: Counting objects:  46% (31/66)\u001B[K\rremote: Counting objects:  48% (32/66)\u001B[K\rremote: Counting objects:  50% (33/66)\u001B[K\rremote: Counting objects:  51% (34/66)\u001B[K\rremote: Counting objects:  53% (35/66)\u001B[K\rremote: Counting objects:  54% (36/66)\u001B[K\rremote: Counting objects:  56% (37/66)\u001B[K\rremote: Counting objects:  57% (38/66)\u001B[K\rremote: Counting objects:  59% (39/66)\u001B[K\rremote: Counting objects:  60% (40/66)\u001B[K\rremote: Counting objects:  62% (41/66)\u001B[K\rremote: Counting objects:  63% (42/66)\u001B[K\rremote: Counting objects:  65% (43/66)\u001B[K\rremote: Counting objects:  66% (44/66)\u001B[K\rremote: Counting objects:  68% (45/66)\u001B[K\rremote: Counting objects:  69% (46/66)\u001B[K\rremote: Counting objects:  71% (47/66)\u001B[K\rremote: Counting objects:  72% (48/66)\u001B[K\rremote: Counting objects:  74% (49/66)\u001B[K\rremote: Counting objects:  75% (50/66)\u001B[K\rremote: Counting objects:  77% (51/66)\u001B[K\rremote: Counting objects:  78% (52/66)\u001B[K\rremote: Counting objects:  80% (53/66)\u001B[K\rremote: Counting objects:  81% (54/66)\u001B[K\rremote: Counting objects:  83% (55/66)\u001B[K\rremote: Counting objects:  84% (56/66)\u001B[K\rremote: Counting objects:  86% (57/66)\u001B[K\rremote: Counting objects:  87% (58/66)\u001B[K\rremote: Counting objects:  89% (59/66)\u001B[K\rremote: Counting objects:  90% (60/66)\u001B[K\rremote: Counting objects:  92% (61/66)\u001B[K\rremote: Counting objects:  93% (62/66)\u001B[K\rremote: Counting objects:  95% (63/66)\u001B[K\rremote: Counting objects:  96% (64/66)\u001B[K\rremote: Counting objects:  98% (65/66)\u001B[K\rremote: Counting objects: 100% (66/66)\u001B[K\rremote: Counting objects: 100% (66/66), done.\u001B[K\n",
      "remote: Compressing objects:   2% (1/47)\u001B[K\rremote: Compressing objects:   4% (2/47)\u001B[K\rremote: Compressing objects:   6% (3/47)\u001B[K\rremote: Compressing objects:   8% (4/47)\u001B[K\rremote: Compressing objects:  10% (5/47)\u001B[K\rremote: Compressing objects:  12% (6/47)\u001B[K\rremote: Compressing objects:  14% (7/47)\u001B[K\rremote: Compressing objects:  17% (8/47)\u001B[K\rremote: Compressing objects:  19% (9/47)\u001B[K\rremote: Compressing objects:  21% (10/47)\u001B[K\rremote: Compressing objects:  23% (11/47)\u001B[K\rremote: Compressing objects:  25% (12/47)\u001B[K\rremote: Compressing objects:  27% (13/47)\u001B[K\rremote: Compressing objects:  29% (14/47)\u001B[K\rremote: Compressing objects:  31% (15/47)\u001B[K\rremote: Compressing objects:  34% (16/47)\u001B[K\rremote: Compressing objects:  36% (17/47)\u001B[K\rremote: Compressing objects:  38% (18/47)\u001B[K\rremote: Compressing objects:  40% (19/47)\u001B[K\rremote: Compressing objects:  42% (20/47)\u001B[K\rremote: Compressing objects:  44% (21/47)\u001B[K\rremote: Compressing objects:  46% (22/47)\u001B[K\rremote: Compressing objects:  48% (23/47)\u001B[K\rremote: Compressing objects:  51% (24/47)\u001B[K\rremote: Compressing objects:  53% (25/47)\u001B[K\rremote: Compressing objects:  55% (26/47)\u001B[K\rremote: Compressing objects:  57% (27/47)\u001B[K\rremote: Compressing objects:  59% (28/47)\u001B[K\rremote: Compressing objects:  61% (29/47)\u001B[K\rremote: Compressing objects:  63% (30/47)\u001B[K\rremote: Compressing objects:  65% (31/47)\u001B[K\rremote: Compressing objects:  68% (32/47)\u001B[K\rremote: Compressing objects:  70% (33/47)\u001B[K\rremote: Compressing objects:  72% (34/47)\u001B[K\rremote: Compressing objects:  74% (35/47)\u001B[K\rremote: Compressing objects:  76% (36/47)\u001B[K\rremote: Compressing objects:  78% (37/47)\u001B[K\rremote: Compressing objects:  80% (38/47)\u001B[K\rremote: Compressing objects:  82% (39/47)\u001B[K\rremote: Compressing objects:  85% (40/47)\u001B[K\rremote: Compressing objects:  87% (41/47)\u001B[K\rremote: Compressing objects:  89% (42/47)\u001B[K\rremote: Compressing objects:  91% (43/47)\u001B[K\rremote: Compressing objects:  93% (44/47)\u001B[K\rremote: Compressing objects:  95% (45/47)\u001B[K\rremote: Compressing objects:  97% (46/47)\u001B[K\rremote: Compressing objects: 100% (47/47)\u001B[K\rremote: Compressing objects: 100% (47/47), done.\u001B[K\n",
      "Receiving objects:   1% (1/66)\rReceiving objects:   3% (2/66)\rReceiving objects:   4% (3/66)\rReceiving objects:   6% (4/66)\rReceiving objects:   7% (5/66)\rReceiving objects:   9% (6/66)\rReceiving objects:  10% (7/66)\rReceiving objects:  12% (8/66)\rReceiving objects:  13% (9/66)\rReceiving objects:  15% (10/66)\rReceiving objects:  16% (11/66)\rReceiving objects:  18% (12/66)\rReceiving objects:  19% (13/66)\rReceiving objects:  21% (14/66)\rReceiving objects:  22% (15/66)\rReceiving objects:  24% (16/66)\rReceiving objects:  25% (17/66)\rReceiving objects:  27% (18/66)\rReceiving objects:  28% (19/66)\rReceiving objects:  30% (20/66)\rReceiving objects:  31% (21/66)\rReceiving objects:  33% (22/66)\rReceiving objects:  34% (23/66)\rReceiving objects:  36% (24/66)\rReceiving objects:  37% (25/66)\rReceiving objects:  39% (26/66)\rReceiving objects:  40% (27/66)\rReceiving objects:  42% (28/66)\rReceiving objects:  43% (29/66)\rReceiving objects:  45% (30/66)\rReceiving objects:  46% (31/66)\rReceiving objects:  48% (32/66)\rReceiving objects:  50% (33/66)\rReceiving objects:  51% (34/66)\rReceiving objects:  53% (35/66)\rReceiving objects:  54% (36/66)\rReceiving objects:  56% (37/66)\rReceiving objects:  57% (38/66)\rReceiving objects:  59% (39/66)\rReceiving objects:  60% (40/66)\rremote: Total 66 (delta 15), reused 62 (delta 11), pack-reused 0 (from 0)\u001B[K\n",
      "Receiving objects:  62% (41/66)\rReceiving objects:  63% (42/66)\rReceiving objects:  65% (43/66)\rReceiving objects:  66% (44/66)\rReceiving objects:  68% (45/66)\rReceiving objects:  69% (46/66)\rReceiving objects:  71% (47/66)\rReceiving objects:  72% (48/66)\rReceiving objects:  74% (49/66)\rReceiving objects:  75% (50/66)\rReceiving objects:  77% (51/66)\rReceiving objects:  78% (52/66)\rReceiving objects:  80% (53/66)\rReceiving objects:  81% (54/66)\rReceiving objects:  83% (55/66)\rReceiving objects:  84% (56/66)\rReceiving objects:  86% (57/66)\rReceiving objects:  87% (58/66)\rReceiving objects:  89% (59/66)\rReceiving objects:  90% (60/66)\rReceiving objects:  92% (61/66)\rReceiving objects:  93% (62/66)\rReceiving objects:  95% (63/66)\rReceiving objects:  96% (64/66)\rReceiving objects:  98% (65/66)\rReceiving objects: 100% (66/66)\rReceiving objects: 100% (66/66), 30.15 KiB | 10.05 MiB/s, done.\n",
      "Resolving deltas:   0% (0/15)\rResolving deltas:   6% (1/15)\rResolving deltas:  13% (2/15)\rResolving deltas:  20% (3/15)\rResolving deltas:  26% (4/15)\rResolving deltas:  33% (5/15)\rResolving deltas:  40% (6/15)\rResolving deltas:  46% (7/15)\rResolving deltas:  53% (8/15)\rResolving deltas:  60% (9/15)\rResolving deltas:  66% (10/15)\rResolving deltas:  73% (11/15)\rResolving deltas:  80% (12/15)\rResolving deltas:  86% (13/15)\rResolving deltas:  93% (14/15)\rResolving deltas: 100% (15/15)\rResolving deltas: 100% (15/15), done.\n"
     ]
    }
   ]
  },
  {
   "cell_type": "code",
   "source": [
    "import sys\n",
    "import torch"
   ],
   "metadata": {
    "id": "Dkk1bZmcx01w",
    "pycharm": {
     "name": "#%%\n"
    }
   },
   "execution_count": 2,
   "outputs": []
  },
  {
   "cell_type": "code",
   "source": [
    "%cd test_models\n",
    "!pip install -e .\n",
    "%cd .."
   ],
   "metadata": {
    "colab": {
     "base_uri": "https://localhost:8080/"
    },
    "id": "o1jhbgOky0nN",
    "outputId": "a7175535-a86f-4329-ec7f-4e0b911d4809",
    "pycharm": {
     "name": "#%%\n"
    }
   },
   "execution_count": 3,
   "outputs": [
    {
     "output_type": "stream",
     "name": "stdout",
     "text": [
      "/content/test_models\n",
      "Obtaining file:///content/test_models\n",
      "  Preparing metadata (setup.py) ... \u001B[?25l\u001B[?25hdone\n",
      "Requirement already satisfied: colorama in /usr/local/lib/python3.11/dist-packages (from test_models==1.0) (0.4.6)\n",
      "Requirement already satisfied: json5 in /usr/local/lib/python3.11/dist-packages (from test_models==1.0) (0.10.0)\n",
      "Requirement already satisfied: numba in /usr/local/lib/python3.11/dist-packages (from test_models==1.0) (0.60.0)\n",
      "Requirement already satisfied: numpy in /usr/local/lib/python3.11/dist-packages (from test_models==1.0) (1.26.4)\n",
      "Requirement already satisfied: protobuf in /usr/local/lib/python3.11/dist-packages (from test_models==1.0) (4.25.6)\n",
      "Requirement already satisfied: PyYAML in /usr/local/lib/python3.11/dist-packages (from test_models==1.0) (6.0.2)\n",
      "Requirement already satisfied: setuptools in /usr/local/lib/python3.11/dist-packages (from test_models==1.0) (75.1.0)\n",
      "Requirement already satisfied: llvmlite<0.44,>=0.43.0dev0 in /usr/local/lib/python3.11/dist-packages (from numba->test_models==1.0) (0.43.0)\n",
      "Installing collected packages: test_models\n",
      "  Running setup.py develop for test_models\n",
      "Successfully installed test_models-1.0\n",
      "/content\n"
     ]
    }
   ]
  },
  {
   "cell_type": "code",
   "source": [
    "sys.path.append('./test_models/')"
   ],
   "metadata": {
    "id": "EDNrKYLBx6Rc",
    "pycharm": {
     "name": "#%%\n"
    }
   },
   "execution_count": 4,
   "outputs": []
  },
  {
   "cell_type": "code",
   "execution_count": 5,
   "metadata": {
    "collapsed": true,
    "pycharm": {
     "name": "#%%\n"
    },
    "id": "grE8H-f6xk66"
   },
   "outputs": [],
   "source": [
    "from test_models.build import Reformer\n",
    "\n",
    "import torch\n",
    "import torch.nn as nn"
   ]
  },
  {
   "cell_type": "markdown",
   "source": [
    "# 2. Parameters"
   ],
   "metadata": {
    "collapsed": false,
    "pycharm": {
     "name": "#%% md\n"
    },
    "id": "sQ4Pn8rgxk67"
   }
  },
  {
   "cell_type": "code",
   "execution_count": 6,
   "outputs": [],
   "source": [
    "FEEDBACK = True\n",
    "INPUT_DIMS = 11\n",
    "OUTPUT_DIMS = 4\n",
    "FEEDBACK_DIMS = INPUT_DIMS+ (OUTPUT_DIMS+1 if FEEDBACK else 0)\n",
    "EMBED_SIZE = 32\n",
    "MAX_SEQ_LEN = 512\n",
    "LAYERS = 4\n",
    "HEADS = 1\n",
    "KV_HEADS = None\n",
    "DIFFERENTIAL = True\n",
    "BIAS = False\n",
    "PRI_ACTV = nn.SiLU()\n",
    "SEC_ACTV = nn.Sigmoid()"
   ],
   "metadata": {
    "pycharm": {
     "name": "#%%\n"
    },
    "id": "oTH8QMNlxk67"
   }
  },
  {
   "cell_type": "code",
   "execution_count": 7,
   "outputs": [
    {
     "output_type": "execute_result",
     "data": {
      "text/plain": [
       "'cpu'"
      ],
      "application/vnd.google.colaboratory.intrinsic+json": {
       "type": "string"
      }
     },
     "metadata": {},
     "execution_count": 7
    }
   ],
   "source": [
    "DEVICE = 'cuda' if torch.cuda.is_available() else 'cpu'\n",
    "DTYPE = torch.float32\n",
    "DEVICE"
   ],
   "metadata": {
    "pycharm": {
     "name": "#%%\n"
    },
    "colab": {
     "base_uri": "https://localhost:8080/",
     "height": 35
    },
    "id": "IL2JXilLxk67",
    "outputId": "382f21bb-b87e-4bb3-ea02-b374cd04b901"
   }
  },
  {
   "cell_type": "markdown",
   "source": [
    "# 3. Create model"
   ],
   "metadata": {
    "collapsed": false,
    "pycharm": {
     "name": "#%% md\n"
    },
    "id": "PWtS7ea6xk67"
   }
  },
  {
   "cell_type": "code",
   "execution_count": 8,
   "outputs": [],
   "source": [
    "MODEL = Reformer(INPUT_DIMS+FEEDBACK_DIMS, OUTPUT_DIMS, 1, EMBED_SIZE, MAX_SEQ_LEN, LAYERS, HEADS, KV_HEADS,\n",
    "                 DIFFERENTIAL, 0.1, BIAS, FEEDBACK, DEVICE, DTYPE,\n",
    "                 pri_actv=PRI_ACTV, sec_actv=SEC_ACTV, prob=False, dist='mult_var_normal')"
   ],
   "metadata": {
    "pycharm": {
     "name": "#%%\n"
    },
    "id": "n9WO2f0nxk68"
   }
  },
  {
   "cell_type": "code",
   "execution_count": 9,
   "outputs": [],
   "source": [
    "MODEL.single_mode(False)"
   ],
   "metadata": {
    "pycharm": {
     "name": "#%%\n"
    },
    "id": "SONZDRawxk69"
   }
  },
  {
   "cell_type": "markdown",
   "source": [
    "# 4. Create data"
   ],
   "metadata": {
    "collapsed": false,
    "pycharm": {
     "name": "#%% md\n"
    },
    "id": "uTnRt8cixk69"
   }
  },
  {
   "cell_type": "code",
   "execution_count": 10,
   "outputs": [],
   "source": [
    "SEQ_LEN = 64\n",
    "RECORDS = 10"
   ],
   "metadata": {
    "pycharm": {
     "name": "#%%\n"
    },
    "id": "gp4GV89sxk6-"
   }
  },
  {
   "cell_type": "code",
   "execution_count": 11,
   "outputs": [],
   "source": [
    "train_inp = torch.randn(RECORDS, SEQ_LEN, INPUT_DIMS+FEEDBACK_DIMS).to(DEVICE, DTYPE)"
   ],
   "metadata": {
    "pycharm": {
     "name": "#%%\n"
    },
    "id": "9rTrBu-dxk6-"
   }
  },
  {
   "cell_type": "markdown",
   "source": [
    "# Test"
   ],
   "metadata": {
    "collapsed": false,
    "pycharm": {
     "name": "#%% md\n"
    },
    "id": "_eZHQV8Axk6-"
   }
  },
  {
   "cell_type": "code",
   "source": [
    "torch.cuda.empty_cache()"
   ],
   "metadata": {
    "id": "PuY7_LQ43RHg",
    "pycharm": {
     "name": "#%%\n"
    }
   },
   "execution_count": 13,
   "outputs": []
  },
  {
   "cell_type": "code",
   "execution_count": 14,
   "outputs": [
    {
     "output_type": "execute_result",
     "data": {
      "text/plain": [
       "(Linear(in_features=8, out_features=6, bias=False),\n",
       " tensor([[1, 2, 2, 3, 3, 3],\n",
       "         [0, 0, 1, 0, 1, 2]]))"
      ]
     },
     "metadata": {},
     "execution_count": 14
    }
   ],
   "source": [
    "with torch.no_grad():\n",
    "    test_policy, test_prob = MODEL.get_action(train_inp)\n",
    "MODEL.corr, MODEL.corr_indices"
   ],
   "metadata": {
    "pycharm": {
     "name": "#%%\n"
    },
    "colab": {
     "base_uri": "https://localhost:8080/"
    },
    "id": "v7EZyfQ6xk6-",
    "outputId": "3b25c9d0-91b1-427b-cf3b-219b26e0c504"
   }
  },
  {
   "cell_type": "code",
   "execution_count": 15,
   "outputs": [
    {
     "output_type": "execute_result",
     "data": {
      "text/plain": [
       "array([[-0.1758607 ,  0.4344102 , -0.00523913,  0.6154233 ],\n",
       "       [ 0.0566698 ,  0.98794186,  0.51657665,  1.2415535 ],\n",
       "       [ 1.4502698 ,  0.6363247 , -1.2129441 ,  0.9213729 ],\n",
       "       [ 0.1315606 , -1.0511289 ,  0.7051847 , -0.0696131 ]],\n",
       "      dtype=float32)"
      ]
     },
     "metadata": {},
     "execution_count": 15
    }
   ],
   "source": [
    "test_policy[0, -4:].cpu().numpy()"
   ],
   "metadata": {
    "pycharm": {
     "name": "#%%\n"
    },
    "colab": {
     "base_uri": "https://localhost:8080/"
    },
    "id": "bIuWy0caxk6-",
    "outputId": "1b347575-f65b-40cd-ff9c-5a2111dc62c2"
   }
  },
  {
   "cell_type": "code",
   "source": [
    "test_prob[0, -4:].cpu().numpy()"
   ],
   "metadata": {
    "colab": {
     "base_uri": "https://localhost:8080/"
    },
    "id": "TJ0uTM1L2877",
    "outputId": "9bc8b5ae-8e82-4e31-b717-d526a449d28e",
    "pycharm": {
     "name": "#%%\n"
    }
   },
   "execution_count": 16,
   "outputs": [
    {
     "output_type": "execute_result",
     "data": {
      "text/plain": [
       "array([-2.9974756, -3.2313366, -6.095659 , -5.432405 ], dtype=float32)"
      ]
     },
     "metadata": {},
     "execution_count": 16
    }
   ]
  },
  {
   "cell_type": "code",
   "source": [
    "with torch.no_grad():\n",
    "    test_latent = MODEL.get_latent(MODEL.pol_proj, train_inp, single=True)"
   ],
   "metadata": {
    "id": "w2E7brMH3UiS",
    "pycharm": {
     "name": "#%%\n"
    }
   },
   "execution_count": 17,
   "outputs": []
  },
  {
   "cell_type": "code",
   "source": [
    "with torch.no_grad():\n",
    "    test_mean = MODEL.get_mean(test_latent)"
   ],
   "metadata": {
    "id": "chrmHHyK4-0Z",
    "pycharm": {
     "name": "#%%\n"
    }
   },
   "execution_count": 18,
   "outputs": []
  },
  {
   "cell_type": "code",
   "source": [
    "test_mean[0].cpu().numpy()"
   ],
   "metadata": {
    "colab": {
     "base_uri": "https://localhost:8080/"
    },
    "id": "8UD3zYm65Ekk",
    "outputId": "bae29f30-b3d3-44f2-a6d4-81065b2b0106",
    "pycharm": {
     "name": "#%%\n"
    }
   },
   "execution_count": 19,
   "outputs": [
    {
     "output_type": "execute_result",
     "data": {
      "text/plain": [
       "array([[0.49412355, 0.50564617, 0.45550522, 0.48925295]], dtype=float32)"
      ]
     },
     "metadata": {},
     "execution_count": 19
    }
   ]
  },
  {
   "cell_type": "code",
   "source": [
    "with torch.no_grad():\n",
    "    test_std = MODEL.get_std(test_latent)"
   ],
   "metadata": {
    "id": "RSsoDG0F5ZZZ",
    "pycharm": {
     "name": "#%%\n"
    }
   },
   "execution_count": 20,
   "outputs": []
  },
  {
   "cell_type": "code",
   "source": [
    "test_std[0].cpu().numpy()"
   ],
   "metadata": {
    "colab": {
     "base_uri": "https://localhost:8080/"
    },
    "id": "ZhAhhPRF5ZUF",
    "outputId": "c71421be-ac92-47b5-f016-556bb12421a9",
    "pycharm": {
     "name": "#%%\n"
    }
   },
   "execution_count": 21,
   "outputs": [
    {
     "output_type": "execute_result",
     "data": {
      "text/plain": [
       "array([[0.70074624, 0.79811573, 0.6881542 , 0.72398823]], dtype=float32)"
      ]
     },
     "metadata": {},
     "execution_count": 21
    }
   ]
  },
  {
   "cell_type": "code",
   "source": [
    "MODEL.mean_std"
   ],
   "metadata": {
    "colab": {
     "base_uri": "https://localhost:8080/"
    },
    "id": "jImZnQ8_6n-m",
    "outputId": "1c0b322d-a9bd-4bb3-94bb-ec1c4ee2eb5d",
    "pycharm": {
     "name": "#%%\n"
    }
   },
   "execution_count": 22,
   "outputs": [
    {
     "output_type": "execute_result",
     "data": {
      "text/plain": [
       "Linear(in_features=32, out_features=8, bias=False)"
      ]
     },
     "metadata": {},
     "execution_count": 22
    }
   ]
  },
  {
   "cell_type": "code",
   "source": [
    "test_latent.shape"
   ],
   "metadata": {
    "colab": {
     "base_uri": "https://localhost:8080/"
    },
    "id": "cF7C7Tur7EwJ",
    "outputId": "f9494f24-8564-4022-c534-c22295f2891d",
    "pycharm": {
     "name": "#%%\n"
    }
   },
   "execution_count": 23,
   "outputs": [
    {
     "output_type": "execute_result",
     "data": {
      "text/plain": [
       "torch.Size([10, 1, 32])"
      ]
     },
     "metadata": {},
     "execution_count": 23
    }
   ]
  },
  {
   "cell_type": "code",
   "source": [
    "MODEL.corr, MODEL.corr_indices"
   ],
   "metadata": {
    "colab": {
     "base_uri": "https://localhost:8080/"
    },
    "id": "D9-juxIM8fHN",
    "outputId": "9886575a-5b7f-4dd8-f280-928b6bb83dfa",
    "pycharm": {
     "name": "#%%\n"
    }
   },
   "execution_count": 24,
   "outputs": [
    {
     "output_type": "execute_result",
     "data": {
      "text/plain": [
       "(Linear(in_features=8, out_features=6, bias=False),\n",
       " tensor([[1, 2, 2, 3, 3, 3],\n",
       "         [0, 0, 1, 0, 1, 2]]))"
      ]
     },
     "metadata": {},
     "execution_count": 24
    }
   ]
  },
  {
   "cell_type": "code",
   "source": [
    "del MODEL.corr"
   ],
   "metadata": {
    "id": "m-qvZYy373Ju",
    "pycharm": {
     "name": "#%%\n"
    }
   },
   "execution_count": 25,
   "outputs": []
  },
  {
   "cell_type": "code",
   "source": [
    "with torch.no_grad():\n",
    "    test_dist = MODEL.dist(test_mean, test_std, test_latent)"
   ],
   "metadata": {
    "id": "aL1StKG0762s",
    "pycharm": {
     "name": "#%%\n"
    }
   },
   "execution_count": 26,
   "outputs": []
  },
  {
   "cell_type": "code",
   "source": [
    "MODEL.corr, MODEL.corr_indices"
   ],
   "metadata": {
    "colab": {
     "base_uri": "https://localhost:8080/"
    },
    "id": "nqMmdhd75ZN_",
    "outputId": "86c73e0f-e7c1-48b2-b19e-f7f874475332",
    "pycharm": {
     "name": "#%%\n"
    }
   },
   "execution_count": 27,
   "outputs": [
    {
     "output_type": "execute_result",
     "data": {
      "text/plain": [
       "(Linear(in_features=32, out_features=6, bias=False),\n",
       " tensor([[1, 2, 2, 3, 3, 3],\n",
       "         [0, 0, 1, 0, 1, 2]]))"
      ]
     },
     "metadata": {},
     "execution_count": 27
    }
   ]
  },
  {
   "cell_type": "code",
   "source": [],
   "metadata": {
    "id": "HVuDpB605ZGF",
    "pycharm": {
     "name": "#%%\n"
    }
   },
   "execution_count": 27,
   "outputs": []
  }
 ],
 "metadata": {
  "kernelspec": {
   "display_name": "Python 3",
   "language": "python",
   "name": "python3"
  },
  "language_info": {
   "codemirror_mode": {
    "name": "ipython",
    "version": 2
   },
   "file_extension": ".py",
   "mimetype": "text/x-python",
   "name": "python",
   "nbconvert_exporter": "python",
   "pygments_lexer": "ipython2",
   "version": "2.7.6"
  },
  "colab": {
   "provenance": []
  }
 },
 "nbformat": 4,
 "nbformat_minor": 0
}