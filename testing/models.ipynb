{
 "cells": [
  {
   "cell_type": "markdown",
   "source": [
    "# 1. Imports"
   ],
   "metadata": {
    "collapsed": false,
    "pycharm": {
     "name": "#%% md\n"
    }
   }
  },
  {
   "cell_type": "code",
   "execution_count": 1,
   "metadata": {
    "collapsed": true,
    "pycharm": {
     "name": "#%%\n"
    }
   },
   "outputs": [],
   "source": [
    "from TModels import Reformer\n",
    "\n",
    "import torch\n",
    "import torch.nn as nn"
   ]
  },
  {
   "cell_type": "markdown",
   "source": [
    "# 2. Parameters"
   ],
   "metadata": {
    "collapsed": false,
    "pycharm": {
     "name": "#%% md\n"
    }
   }
  },
  {
   "cell_type": "code",
   "execution_count": 2,
   "outputs": [],
   "source": [
    "FEEDBACK = True\n",
    "INPUT_DIMS = 11\n",
    "OUTPUT_DIMS = 4\n",
    "FEEDBACK_DIMS = INPUT_DIMS+ (OUTPUT_DIMS+1 if FEEDBACK else 0)\n",
    "EMBED_SIZE = 32\n",
    "MAX_SEQ_LEN = 512\n",
    "LAYERS = 4\n",
    "HEADS = 1\n",
    "KV_HEADS = None\n",
    "DIFFERENTIAL = True\n",
    "BIAS = False"
   ],
   "metadata": {
    "collapsed": false,
    "pycharm": {
     "name": "#%%\n"
    }
   }
  },
  {
   "cell_type": "code",
   "execution_count": 3,
   "outputs": [],
   "source": [
    "DEVICE = 'cuda' if torch.cuda.is_available() else 'cpu'\n",
    "DTYPE = torch.float32"
   ],
   "metadata": {
    "collapsed": false,
    "pycharm": {
     "name": "#%%\n"
    }
   }
  },
  {
   "cell_type": "markdown",
   "source": [
    "# 3. Create model"
   ],
   "metadata": {
    "collapsed": false,
    "pycharm": {
     "name": "#%% md\n"
    }
   }
  },
  {
   "cell_type": "code",
   "execution_count": 4,
   "outputs": [],
   "source": [
    "MODEL = Reformer(INPUT_DIMS+FEEDBACK_DIMS, OUTPUT_DIMS, 1, EMBED_SIZE, MAX_SEQ_LEN, LAYERS, HEADS, KV_HEADS,\n",
    "                 DIFFERENTIAL, 0.1, BIAS, FEEDBACK, DEVICE, DTYPE,\n",
    "                 pri_actv=nn.SiLU(), sec_actv=nn.Sigmoid(), prob=False, dist='normal')"
   ],
   "metadata": {
    "collapsed": false,
    "pycharm": {
     "name": "#%%\n"
    }
   }
  },
  {
   "cell_type": "code",
   "execution_count": 5,
   "outputs": [],
   "source": [
    "MODEL.single_mode(False)"
   ],
   "metadata": {
    "collapsed": false,
    "pycharm": {
     "name": "#%%\n"
    }
   }
  },
  {
   "cell_type": "markdown",
   "source": [
    "# 4. Create data"
   ],
   "metadata": {
    "collapsed": false,
    "pycharm": {
     "name": "#%% md\n"
    }
   }
  },
  {
   "cell_type": "code",
   "execution_count": 6,
   "outputs": [],
   "source": [
    "SEQ_LEN = 64\n",
    "RECORDS = 10"
   ],
   "metadata": {
    "collapsed": false,
    "pycharm": {
     "name": "#%%\n"
    }
   }
  },
  {
   "cell_type": "code",
   "execution_count": 7,
   "outputs": [],
   "source": [
    "train_inp = torch.randn(RECORDS, SEQ_LEN, INPUT_DIMS+FEEDBACK_DIMS).to(DEVICE, DTYPE)"
   ],
   "metadata": {
    "collapsed": false,
    "pycharm": {
     "name": "#%%\n"
    }
   }
  },
  {
   "cell_type": "markdown",
   "source": [
    "# Test"
   ],
   "metadata": {
    "collapsed": false,
    "pycharm": {
     "name": "#%% md\n"
    }
   }
  },
  {
   "cell_type": "code",
   "execution_count": 8,
   "outputs": [],
   "source": [
    "torch.cuda.empty_cache()"
   ],
   "metadata": {
    "collapsed": false,
    "pycharm": {
     "name": "#%%\n"
    }
   }
  },
  {
   "cell_type": "code",
   "execution_count": 9,
   "outputs": [],
   "source": [
    "with torch.no_grad():\n",
    "    test_policy, test_prob = MODEL.get_action(train_inp)"
   ],
   "metadata": {
    "collapsed": false,
    "pycharm": {
     "name": "#%%\n"
    }
   }
  },
  {
   "cell_type": "code",
   "execution_count": 10,
   "outputs": [
    {
     "data": {
      "text/plain": "array([[ 0.93140054, -0.1368388 ,  0.16179374,  0.06433627],\n       [ 1.8779953 ,  1.4328828 , -0.9313403 ,  1.3934828 ],\n       [ 0.60219544,  0.3142664 ,  0.8114655 ,  0.5416646 ],\n       [ 0.73250127,  0.5142795 , -1.1129389 ,  0.04497951]],\n      dtype=float32)"
     },
     "execution_count": 10,
     "metadata": {},
     "output_type": "execute_result"
    }
   ],
   "source": [
    "test_policy[0, -4:].cpu().numpy()"
   ],
   "metadata": {
    "collapsed": false,
    "pycharm": {
     "name": "#%%\n"
    }
   }
  },
  {
   "cell_type": "code",
   "execution_count": 11,
   "outputs": [
    {
     "data": {
      "text/plain": "array([[-0.77868885, -1.0432377 , -0.7311285 , -0.8478738 ],\n       [-2.3040166 , -1.3584607 , -2.5207262 , -1.3140364 ],\n       [-0.6603654 , -0.6749545 , -0.6967725 , -0.6732235 ],\n       [-0.7112341 , -0.6355683 , -3.014853  , -0.8758185 ]],\n      dtype=float32)"
     },
     "execution_count": 11,
     "metadata": {},
     "output_type": "execute_result"
    }
   ],
   "source": [
    "test_prob[0, -4:].cpu().numpy()"
   ],
   "metadata": {
    "collapsed": false,
    "pycharm": {
     "name": "#%%\n"
    }
   }
  },
  {
   "cell_type": "code",
   "execution_count": 12,
   "outputs": [
    {
     "data": {
      "text/plain": "array([[ 0.02161962,  0.5002566 ,  0.16197279,  0.14268732],\n       [ 0.18546641,  0.11883789,  0.09956068,  0.3233798 ],\n       [ 0.06234944,  0.09738401,  0.36293542, -0.062895  ],\n       [ 0.000696  , -0.08218002,  0.26579368, -0.25191885]],\n      dtype=float32)"
     },
     "execution_count": 12,
     "metadata": {},
     "output_type": "execute_result"
    }
   ],
   "source": [
    "with torch.no_grad():\n",
    "    test_policy = MODEL(train_inp)\n",
    "test_policy[0, -4:].cpu().numpy()"
   ],
   "metadata": {
    "collapsed": false,
    "pycharm": {
     "name": "#%%\n"
    }
   }
  },
  {
   "cell_type": "code",
   "execution_count": 13,
   "outputs": [],
   "source": [
    "with torch.no_grad():\n",
    "    test_latent = MODEL.get_latent(MODEL.pol_proj, train_inp, single=False)"
   ],
   "metadata": {
    "collapsed": false,
    "pycharm": {
     "name": "#%%\n"
    }
   }
  },
  {
   "cell_type": "code",
   "execution_count": 14,
   "outputs": [],
   "source": [
    "with torch.no_grad():\n",
    "    test_mean = MODEL.get_mean(test_latent)"
   ],
   "metadata": {
    "collapsed": false,
    "pycharm": {
     "name": "#%%\n"
    }
   }
  },
  {
   "cell_type": "code",
   "execution_count": 15,
   "outputs": [
    {
     "data": {
      "text/plain": "array([[0.44983318, 0.5848123 , 0.54332495, 0.6388184 ],\n       [0.43702668, 0.606492  , 0.5334037 , 0.5527589 ],\n       [0.43265912, 0.50567967, 0.5197109 , 0.54649854],\n       [0.4349234 , 0.505543  , 0.59839267, 0.5323648 ],\n       [0.43226507, 0.4881165 , 0.59302056, 0.5958958 ],\n       [0.43614095, 0.53665197, 0.5898036 , 0.52296   ],\n       [0.43172356, 0.49527866, 0.5711678 , 0.5259811 ],\n       [0.435579  , 0.5724082 , 0.5239279 , 0.63131624],\n       [0.43562177, 0.5897793 , 0.5326336 , 0.6290742 ],\n       [0.43309802, 0.53434753, 0.5217888 , 0.5189388 ],\n       [0.4312061 , 0.45381516, 0.55461645, 0.50729096],\n       [0.4312908 , 0.5610524 , 0.6637143 , 0.56940633],\n       [0.43128207, 0.56198937, 0.5659406 , 0.5490827 ],\n       [0.43998963, 0.47985917, 0.57044035, 0.5753273 ],\n       [0.4355295 , 0.5361447 , 0.4929497 , 0.5245417 ],\n       [0.45190054, 0.6018764 , 0.511063  , 0.5497908 ],\n       [0.4365834 , 0.580499  , 0.5907361 , 0.48919868],\n       [0.4318971 , 0.53598243, 0.56861496, 0.5608964 ],\n       [0.4334507 , 0.5900389 , 0.5358656 , 0.5241535 ],\n       [0.43414927, 0.5404943 , 0.5011272 , 0.57627285],\n       [0.43088305, 0.49934223, 0.5563627 , 0.5505349 ],\n       [0.4310202 , 0.5575305 , 0.5515903 , 0.55025476],\n       [0.44155374, 0.5336525 , 0.5962256 , 0.5448493 ],\n       [0.44165748, 0.5805727 , 0.53010225, 0.55533606],\n       [0.43257612, 0.53962433, 0.68603444, 0.49726382],\n       [0.4324179 , 0.53911424, 0.5473673 , 0.5946787 ],\n       [0.46116215, 0.5974333 , 0.50636965, 0.5449478 ],\n       [0.43643314, 0.53129166, 0.56674606, 0.5313203 ],\n       [0.43927354, 0.55042833, 0.54745626, 0.5625749 ],\n       [0.43614486, 0.58092755, 0.52373725, 0.54907024],\n       [0.43175724, 0.59050125, 0.59961766, 0.5588309 ],\n       [0.44674602, 0.6194844 , 0.5487796 , 0.61623216],\n       [0.4343077 , 0.514245  , 0.5146575 , 0.5130065 ],\n       [0.43314368, 0.46777692, 0.5831932 , 0.52920854],\n       [0.4349167 , 0.53532505, 0.5495158 , 0.51429456],\n       [0.4309479 , 0.54571646, 0.62607217, 0.5272355 ],\n       [0.43342185, 0.55215174, 0.55215067, 0.5828367 ],\n       [0.43821356, 0.47782066, 0.5755518 , 0.535797  ],\n       [0.43906647, 0.6048348 , 0.47745112, 0.5618816 ],\n       [0.43160015, 0.49238616, 0.7335371 , 0.54918873],\n       [0.430848  , 0.582976  , 0.5814628 , 0.53676456],\n       [0.43214765, 0.52915496, 0.6776809 , 0.51663446],\n       [0.43945524, 0.59868026, 0.5338454 , 0.55312973],\n       [0.43512493, 0.5560757 , 0.61141086, 0.5229629 ],\n       [0.4326624 , 0.5487609 , 0.60235417, 0.48650578],\n       [0.43327242, 0.51889914, 0.5549456 , 0.5682562 ],\n       [0.43510523, 0.6169524 , 0.55568767, 0.53788966],\n       [0.43546844, 0.53989667, 0.57514024, 0.56351924],\n       [0.4361504 , 0.6327906 , 0.54369056, 0.5747736 ],\n       [0.4339147 , 0.56683147, 0.58876795, 0.5368216 ],\n       [0.43083158, 0.5474959 , 0.6367209 , 0.4975152 ],\n       [0.43280548, 0.57099676, 0.5852926 , 0.56007034],\n       [0.43200615, 0.4999156 , 0.5896532 , 0.5306912 ],\n       [0.43090683, 0.5328263 , 0.5959207 , 0.50883263],\n       [0.4312599 , 0.5332218 , 0.5807332 , 0.50096726],\n       [0.43250948, 0.5628416 , 0.6614455 , 0.5144074 ],\n       [0.43335712, 0.55966294, 0.5961148 , 0.56539726],\n       [0.43113983, 0.5501564 , 0.63125175, 0.50067496],\n       [0.43086043, 0.6390868 , 0.5263215 , 0.5389676 ],\n       [0.4352858 , 0.60367054, 0.5589206 , 0.5425934 ],\n       [0.43251866, 0.6395251 , 0.50228524, 0.5570769 ],\n       [0.43403786, 0.583832  , 0.628074  , 0.50226665],\n       [0.44534218, 0.527215  , 0.55577815, 0.5625015 ],\n       [0.4357983 , 0.6031495 , 0.5481214 , 0.5493957 ]], dtype=float32)"
     },
     "execution_count": 15,
     "metadata": {},
     "output_type": "execute_result"
    }
   ],
   "source": [
    "test_mean[0].cpu().numpy()"
   ],
   "metadata": {
    "collapsed": false,
    "pycharm": {
     "name": "#%%\n"
    }
   }
  },
  {
   "cell_type": "code",
   "execution_count": 16,
   "outputs": [],
   "source": [
    "with torch.no_grad():\n",
    "    test_std = MODEL.get_std(test_latent)"
   ],
   "metadata": {
    "collapsed": false,
    "pycharm": {
     "name": "#%%\n"
    }
   }
  },
  {
   "cell_type": "code",
   "execution_count": 17,
   "outputs": [
    {
     "data": {
      "text/plain": "array([[0.7753242 , 0.6820403 , 0.8890484 , 0.80441153],\n       [0.8225698 , 0.6813627 , 0.8539791 , 0.7598093 ],\n       [0.7714612 , 0.6815383 , 0.8370975 , 0.8007763 ],\n       [0.7892363 , 0.6812275 , 0.8006683 , 0.8114363 ],\n       [0.71163225, 0.6807042 , 0.8181736 , 0.83070505],\n       [0.7998198 , 0.6840701 , 0.75121623, 0.76964825],\n       [0.72359955, 0.68321925, 0.7350376 , 0.7448467 ],\n       [0.76962924, 0.6807617 , 0.7803558 , 0.7691398 ],\n       [0.7817997 , 0.68079823, 0.7706167 , 0.75648844],\n       [0.7318111 , 0.68186605, 0.7890731 , 0.7796617 ],\n       [0.76162815, 0.69903004, 0.7040756 , 0.7480933 ],\n       [0.76374865, 0.68076813, 0.7788914 , 0.75523555],\n       [0.7383492 , 0.6806901 , 0.78418934, 0.7797598 ],\n       [0.74161166, 0.68090844, 0.7617625 , 0.8023399 ],\n       [0.80099666, 0.6835131 , 0.77908677, 0.7865932 ],\n       [0.8154441 , 0.6806965 , 0.7445138 , 0.7540894 ],\n       [0.7604937 , 0.6810342 , 0.8466199 , 0.8103652 ],\n       [0.82560456, 0.683379  , 0.8230085 , 0.84448236],\n       [0.8287019 , 0.6814671 , 0.8071083 , 0.7435224 ],\n       [0.88754785, 0.68096966, 0.8194002 , 0.79247725],\n       [0.8022546 , 0.68089914, 0.7395498 , 0.76036215],\n       [0.869226  , 0.68093675, 0.8177248 , 0.7985177 ],\n       [0.7673637 , 0.68227565, 0.8402717 , 0.78029555],\n       [0.76375884, 0.6843587 , 0.80739474, 0.7546056 ],\n       [0.765813  , 0.6807897 , 0.75232893, 0.7389235 ],\n       [0.7747955 , 0.6807268 , 0.82653695, 0.79158735],\n       [0.77956104, 0.6810534 , 0.84717834, 0.7617823 ],\n       [0.8345703 , 0.6808627 , 0.79965436, 0.7797578 ],\n       [0.78039134, 0.6819576 , 0.7892448 , 0.7277788 ],\n       [0.7852987 , 0.6815516 , 0.77274674, 0.75073195],\n       [0.80844164, 0.68070024, 0.79169583, 0.75053006],\n       [0.77448916, 0.68199867, 0.8275737 , 0.75907487],\n       [0.79318553, 0.6808736 , 0.75029427, 0.76007223],\n       [0.71596676, 0.68072486, 0.75307   , 0.75918585],\n       [0.81919944, 0.6807064 , 0.7978822 , 0.75684035],\n       [0.8072844 , 0.6807301 , 0.83208513, 0.77569723],\n       [0.8322059 , 0.6815744 , 0.84970146, 0.77715224],\n       [0.7286381 , 0.6825434 , 0.7577843 , 0.7520149 ],\n       [0.8165678 , 0.6836417 , 0.77522177, 0.75159466],\n       [0.73867494, 0.6816501 , 0.77957815, 0.7131804 ],\n       [0.8260355 , 0.68119496, 0.8228823 , 0.7654742 ],\n       [0.75406134, 0.6821647 , 0.8129072 , 0.7952308 ],\n       [0.80245197, 0.68081653, 0.84590894, 0.7790302 ],\n       [0.7997668 , 0.68102586, 0.8219565 , 0.7630876 ],\n       [0.83905476, 0.6865127 , 0.7715141 , 0.73732907],\n       [0.82695365, 0.6807131 , 0.8137824 , 0.77488405],\n       [0.8523075 , 0.6816742 , 0.77000177, 0.7546634 ],\n       [0.7487269 , 0.6808299 , 0.7730793 , 0.7446641 ],\n       [0.8196192 , 0.68499714, 0.832762  , 0.7844463 ],\n       [0.8822685 , 0.6815891 , 0.80152017, 0.76013935],\n       [0.7731137 , 0.6807303 , 0.7797131 , 0.7633358 ],\n       [0.85427004, 0.6808302 , 0.82177496, 0.80441725],\n       [0.71633357, 0.6826667 , 0.7705711 , 0.7082898 ],\n       [0.76867867, 0.6807165 , 0.85019165, 0.7832413 ],\n       [0.81324553, 0.68152195, 0.8156055 , 0.73230356],\n       [0.818145  , 0.68274575, 0.7925481 , 0.70544195],\n       [0.82393426, 0.68183005, 0.8179683 , 0.77207506],\n       [0.7546554 , 0.6810828 , 0.7968476 , 0.7025804 ],\n       [0.8326264 , 0.6823094 , 0.77934784, 0.7263728 ],\n       [0.79155844, 0.68095076, 0.83740115, 0.7550745 ],\n       [0.8163138 , 0.6834955 , 0.7617016 , 0.7261281 ],\n       [0.8520898 , 0.6810332 , 0.82956266, 0.75082976],\n       [0.75472707, 0.6809926 , 0.7936553 , 0.7406233 ],\n       [0.8451842 , 0.68123645, 0.8260738 , 0.7469679 ]], dtype=float32)"
     },
     "execution_count": 17,
     "metadata": {},
     "output_type": "execute_result"
    }
   ],
   "source": [
    "test_std[0].cpu().numpy()"
   ],
   "metadata": {
    "collapsed": false,
    "pycharm": {
     "name": "#%%\n"
    }
   }
  },
  {
   "cell_type": "code",
   "execution_count": 18,
   "outputs": [
    {
     "data": {
      "text/plain": "Linear(in_features=32, out_features=8, bias=False)"
     },
     "execution_count": 18,
     "metadata": {},
     "output_type": "execute_result"
    }
   ],
   "source": [
    "MODEL.mean_std"
   ],
   "metadata": {
    "collapsed": false,
    "pycharm": {
     "name": "#%%\n"
    }
   }
  },
  {
   "cell_type": "code",
   "execution_count": 19,
   "outputs": [
    {
     "data": {
      "text/plain": "torch.Size([10, 64, 32])"
     },
     "execution_count": 19,
     "metadata": {},
     "output_type": "execute_result"
    }
   ],
   "source": [
    "test_latent.shape"
   ],
   "metadata": {
    "collapsed": false,
    "pycharm": {
     "name": "#%%\n"
    }
   }
  },
  {
   "cell_type": "code",
   "execution_count": 20,
   "outputs": [],
   "source": [
    "with torch.no_grad():\n",
    "    test_dist, test_extra = MODEL.dist(test_mean, test_std, test_latent, verbose=2)"
   ],
   "metadata": {
    "collapsed": false,
    "pycharm": {
     "name": "#%%\n"
    }
   }
  },
  {
   "cell_type": "code",
   "execution_count": 21,
   "outputs": [
    {
     "data": {
      "text/plain": "False"
     },
     "execution_count": 21,
     "metadata": {},
     "output_type": "execute_result"
    }
   ],
   "source": [
    "test_dist is None"
   ],
   "metadata": {
    "collapsed": false,
    "pycharm": {
     "name": "#%%\n"
    }
   }
  },
  {
   "cell_type": "code",
   "execution_count": 22,
   "outputs": [
    {
     "ename": "KeyError",
     "evalue": "'corr_params'",
     "output_type": "error",
     "traceback": [
      "\u001B[1;31m---------------------------------------------------------------------------\u001B[0m",
      "\u001B[1;31mKeyError\u001B[0m                                  Traceback (most recent call last)",
      "Cell \u001B[1;32mIn[22], line 1\u001B[0m\n\u001B[1;32m----> 1\u001B[0m test_corr_params, test_corr_matrix, test_std_diag \u001B[38;5;241m=\u001B[39m \u001B[43mtest_extra\u001B[49m\u001B[43m[\u001B[49m\u001B[38;5;124;43m'\u001B[39;49m\u001B[38;5;124;43mcorr_params\u001B[39;49m\u001B[38;5;124;43m'\u001B[39;49m\u001B[43m]\u001B[49m, test_extra[\u001B[38;5;124m'\u001B[39m\u001B[38;5;124mcorr_matrix\u001B[39m\u001B[38;5;124m'\u001B[39m], test_extra[\u001B[38;5;124m'\u001B[39m\u001B[38;5;124mstd_diag\u001B[39m\u001B[38;5;124m'\u001B[39m]\n",
      "\u001B[1;31mKeyError\u001B[0m: 'corr_params'"
     ]
    }
   ],
   "source": [
    "test_corr_params, test_corr_matrix, test_std_diag = test_extra['corr_params'], test_extra['corr_matrix'], test_extra['std_diag']"
   ],
   "metadata": {
    "collapsed": false,
    "pycharm": {
     "name": "#%%\n"
    }
   }
  },
  {
   "cell_type": "code",
   "execution_count": null,
   "outputs": [],
   "source": [
    "test_corr_params[0, -1]"
   ],
   "metadata": {
    "collapsed": false,
    "pycharm": {
     "name": "#%%\n"
    }
   }
  },
  {
   "cell_type": "code",
   "execution_count": null,
   "outputs": [],
   "source": [
    "test_corr_matrix[0, -1]"
   ],
   "metadata": {
    "collapsed": false,
    "pycharm": {
     "name": "#%%\n"
    }
   }
  },
  {
   "cell_type": "code",
   "execution_count": null,
   "outputs": [],
   "source": [
    "test_std_diag[0, -1]"
   ],
   "metadata": {
    "collapsed": false,
    "pycharm": {
     "name": "#%%\n"
    }
   }
  },
  {
   "cell_type": "code",
   "execution_count": null,
   "outputs": [],
   "source": [
    "(test_std_diag @ test_std_diag)[0, -1]"
   ],
   "metadata": {
    "collapsed": false,
    "pycharm": {
     "name": "#%%\n"
    }
   }
  },
  {
   "cell_type": "code",
   "execution_count": null,
   "outputs": [],
   "source": [
    "(test_std_diag @ test_corr_matrix @ test_std_diag)[0, -1]"
   ],
   "metadata": {
    "collapsed": false,
    "pycharm": {
     "name": "#%%\n"
    }
   }
  },
  {
   "cell_type": "code",
   "execution_count": null,
   "outputs": [],
   "source": [
    "MODEL.single_mode(False)\n",
    "MODEL.single"
   ],
   "metadata": {
    "collapsed": false,
    "pycharm": {
     "name": "#%%\n"
    }
   }
  }
 ],
 "metadata": {
  "kernelspec": {
   "display_name": "Python 3",
   "language": "python",
   "name": "python3"
  },
  "language_info": {
   "codemirror_mode": {
    "name": "ipython",
    "version": 2
   },
   "file_extension": ".py",
   "mimetype": "text/x-python",
   "name": "python",
   "nbconvert_exporter": "python",
   "pygments_lexer": "ipython2",
   "version": "2.7.6"
  }
 },
 "nbformat": 4,
 "nbformat_minor": 0
}