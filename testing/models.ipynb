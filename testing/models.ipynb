{
 "cells": [
  {
   "cell_type": "markdown",
   "source": [
    "# 1. Imports"
   ],
   "metadata": {
    "collapsed": false,
    "pycharm": {
     "name": "#%% md\n"
    }
   }
  },
  {
   "cell_type": "code",
   "execution_count": 1,
   "metadata": {
    "collapsed": true,
    "pycharm": {
     "name": "#%%\n"
    }
   },
   "outputs": [],
   "source": [
    "from TModels import Reformer\n",
    "from TModels.util import storage\n",
    "\n",
    "import torch\n",
    "import torch.nn as nn"
   ]
  },
  {
   "cell_type": "code",
   "execution_count": 2,
   "outputs": [
    {
     "data": {
      "text/plain": "'.\\\\home\\\\storage\\\\'"
     },
     "execution_count": 2,
     "metadata": {},
     "output_type": "execute_result"
    }
   ],
   "source": [
    "storage.STORAGE_DIR"
   ],
   "metadata": {
    "collapsed": false,
    "pycharm": {
     "name": "#%%\n"
    }
   }
  },
  {
   "cell_type": "markdown",
   "source": [
    "# 2. Parameters"
   ],
   "metadata": {
    "collapsed": false,
    "pycharm": {
     "name": "#%% md\n"
    }
   }
  },
  {
   "cell_type": "code",
   "execution_count": 3,
   "outputs": [],
   "source": [
    "FEEDBACK = True\n",
    "INPUT_DIMS = 11\n",
    "OUTPUT_DIMS = 4\n",
    "FEEDBACK_DIMS = INPUT_DIMS+ (OUTPUT_DIMS+1 if FEEDBACK else 0)\n",
    "EMBED_SIZE = 32\n",
    "MAX_SEQ_LEN = 512\n",
    "LAYERS = 4\n",
    "HEADS = 1\n",
    "KV_HEADS = None\n",
    "DIFFERENTIAL = True\n",
    "BIAS = False"
   ],
   "metadata": {
    "collapsed": false,
    "pycharm": {
     "name": "#%%\n"
    }
   }
  },
  {
   "cell_type": "code",
   "execution_count": 4,
   "outputs": [],
   "source": [
    "DEVICE = 'cuda' if torch.cuda.is_available() else 'cpu'\n",
    "DTYPE = torch.float32"
   ],
   "metadata": {
    "collapsed": false,
    "pycharm": {
     "name": "#%%\n"
    }
   }
  },
  {
   "cell_type": "markdown",
   "source": [
    "# 3. Create model"
   ],
   "metadata": {
    "collapsed": false,
    "pycharm": {
     "name": "#%% md\n"
    }
   }
  },
  {
   "cell_type": "code",
   "execution_count": 5,
   "outputs": [],
   "source": [
    "MODEL = Reformer(INPUT_DIMS+FEEDBACK_DIMS, OUTPUT_DIMS, 1, EMBED_SIZE, MAX_SEQ_LEN, LAYERS, HEADS, KV_HEADS,\n",
    "                 DIFFERENTIAL, 0.1, BIAS, FEEDBACK, DEVICE, DTYPE,\n",
    "                 pri_actv=nn.SiLU(), sec_actv=nn.Sigmoid(), prob=False, dist='normal')"
   ],
   "metadata": {
    "collapsed": false,
    "pycharm": {
     "name": "#%%\n"
    }
   }
  },
  {
   "cell_type": "code",
   "execution_count": 6,
   "outputs": [],
   "source": [
    "MODEL.single_mode(False)"
   ],
   "metadata": {
    "collapsed": false,
    "pycharm": {
     "name": "#%%\n"
    }
   }
  },
  {
   "cell_type": "markdown",
   "source": [
    "# 4. Create data"
   ],
   "metadata": {
    "collapsed": false,
    "pycharm": {
     "name": "#%% md\n"
    }
   }
  },
  {
   "cell_type": "code",
   "execution_count": 7,
   "outputs": [],
   "source": [
    "SEQ_LEN = 64\n",
    "RECORDS = 10"
   ],
   "metadata": {
    "collapsed": false,
    "pycharm": {
     "name": "#%%\n"
    }
   }
  },
  {
   "cell_type": "code",
   "execution_count": 8,
   "outputs": [],
   "source": [
    "train_inp = torch.randn(RECORDS, SEQ_LEN, INPUT_DIMS+FEEDBACK_DIMS).to(DEVICE, DTYPE)"
   ],
   "metadata": {
    "collapsed": false,
    "pycharm": {
     "name": "#%%\n"
    }
   }
  },
  {
   "cell_type": "markdown",
   "source": [
    "# Test"
   ],
   "metadata": {
    "collapsed": false,
    "pycharm": {
     "name": "#%% md\n"
    }
   }
  },
  {
   "cell_type": "code",
   "execution_count": 9,
   "outputs": [],
   "source": [
    "torch.cuda.empty_cache()"
   ],
   "metadata": {
    "collapsed": false,
    "pycharm": {
     "name": "#%%\n"
    }
   }
  },
  {
   "cell_type": "code",
   "execution_count": 10,
   "outputs": [],
   "source": [
    "with torch.no_grad():\n",
    "    test_policy, test_prob = MODEL.get_action(train_inp)"
   ],
   "metadata": {
    "collapsed": false,
    "pycharm": {
     "name": "#%%\n"
    }
   }
  },
  {
   "cell_type": "code",
   "execution_count": 11,
   "outputs": [
    {
     "data": {
      "text/plain": "array([[ 2.59615111e+00, -5.85088134e-01,  4.85139608e-01,\n        -3.46977949e-01],\n       [-2.89305329e-01, -1.16066456e-01, -4.58972633e-01,\n         1.31866217e+00],\n       [-4.77671623e-04,  5.83943188e-01,  3.92051876e-01,\n         1.31441188e+00],\n       [ 2.96391785e-01, -4.75585461e-02,  6.87694311e-01,\n         6.51149929e-01]], dtype=float32)"
     },
     "execution_count": 11,
     "metadata": {},
     "output_type": "execute_result"
    }
   ],
   "source": [
    "test_policy[0, -4:].cpu().numpy()"
   ],
   "metadata": {
    "collapsed": false,
    "pycharm": {
     "name": "#%%\n"
    }
   }
  },
  {
   "cell_type": "code",
   "execution_count": 12,
   "outputs": [
    {
     "data": {
      "text/plain": "array([[-4.704492  , -1.656739  , -0.63632584, -1.4085428 ],\n       [-1.2683196 , -0.9586648 , -1.2923429 , -1.1007595 ],\n       [-0.92307174, -0.5587231 , -0.5997149 , -1.1593663 ],\n       [-0.688187  , -0.8738472 , -0.6514114 , -0.5681058 ]],\n      dtype=float32)"
     },
     "execution_count": 12,
     "metadata": {},
     "output_type": "execute_result"
    }
   ],
   "source": [
    "test_prob[0, -4:].cpu().numpy()"
   ],
   "metadata": {
    "collapsed": false,
    "pycharm": {
     "name": "#%%\n"
    }
   }
  },
  {
   "cell_type": "code",
   "execution_count": 13,
   "outputs": [
    {
     "data": {
      "text/plain": "array([[-0.0128023 ,  0.05695152,  0.38148743,  0.3525976 ],\n       [ 0.23588344,  0.22957674, -0.19486743,  0.03097785],\n       [ 0.05630422, -0.11126813,  0.24086677,  0.16234511],\n       [-0.00752723,  0.40036193,  0.2832898 , -0.09665078]],\n      dtype=float32)"
     },
     "execution_count": 13,
     "metadata": {},
     "output_type": "execute_result"
    }
   ],
   "source": [
    "with torch.no_grad():\n",
    "    test_policy = MODEL(train_inp)\n",
    "test_policy[0, -4:].cpu().numpy()"
   ],
   "metadata": {
    "collapsed": false,
    "pycharm": {
     "name": "#%%\n"
    }
   }
  },
  {
   "cell_type": "code",
   "execution_count": 14,
   "outputs": [],
   "source": [
    "with torch.no_grad():\n",
    "    test_latent = MODEL.get_latent(MODEL.pol_proj, train_inp, single=False)"
   ],
   "metadata": {
    "collapsed": false,
    "pycharm": {
     "name": "#%%\n"
    }
   }
  },
  {
   "cell_type": "code",
   "execution_count": 15,
   "outputs": [],
   "source": [
    "with torch.no_grad():\n",
    "    test_mean = MODEL.get_mean(test_latent)"
   ],
   "metadata": {
    "collapsed": false,
    "pycharm": {
     "name": "#%%\n"
    }
   }
  },
  {
   "cell_type": "code",
   "execution_count": 16,
   "outputs": [
    {
     "data": {
      "text/plain": "array([[0.43208006, 0.44752106, 0.47871396, 0.547723  ],\n       [0.49401018, 0.5832348 , 0.44461805, 0.48210973],\n       [0.43682158, 0.4917918 , 0.4789674 , 0.5256978 ],\n       [0.4365368 , 0.51397115, 0.49503326, 0.5118097 ],\n       [0.43497112, 0.53272694, 0.46833318, 0.47734433],\n       [0.43695086, 0.544677  , 0.48249856, 0.50018525],\n       [0.46060246, 0.53284943, 0.47581288, 0.4692252 ],\n       [0.44859645, 0.69355255, 0.46950236, 0.5190076 ],\n       [0.44916576, 0.6219628 , 0.43844798, 0.4515098 ],\n       [0.4766424 , 0.6250023 , 0.4468464 , 0.44561255],\n       [0.43824303, 0.5813689 , 0.4555352 , 0.49054345],\n       [0.4441731 , 0.55428934, 0.43725082, 0.49454314],\n       [0.4401511 , 0.584599  , 0.4812964 , 0.45642427],\n       [0.43978885, 0.70164394, 0.47258583, 0.48645264],\n       [0.44141406, 0.5924039 , 0.46765956, 0.44685724],\n       [0.43406504, 0.5344792 , 0.4884993 , 0.43951353],\n       [0.48876378, 0.6983953 , 0.4381847 , 0.43885693],\n       [0.50692505, 0.59518   , 0.46285245, 0.44607505],\n       [0.45883948, 0.62711364, 0.45530793, 0.45580506],\n       [0.450025  , 0.598189  , 0.50015897, 0.4563946 ],\n       [0.5181586 , 0.65487754, 0.5253662 , 0.43083388],\n       [0.46627167, 0.5893343 , 0.45083827, 0.43530926],\n       [0.4923024 , 0.6144129 , 0.43200624, 0.43436447],\n       [0.46992338, 0.6365927 , 0.44404978, 0.43573594],\n       [0.45437294, 0.5896153 , 0.44023022, 0.43423468],\n       [0.46869156, 0.53964454, 0.45836148, 0.43727788],\n       [0.468972  , 0.54540074, 0.45636606, 0.43723914],\n       [0.45178246, 0.5941851 , 0.46619177, 0.4413545 ],\n       [0.4701559 , 0.5889313 , 0.43257105, 0.4356635 ],\n       [0.47264376, 0.6033789 , 0.47048488, 0.43146127],\n       [0.45967832, 0.66831315, 0.43248898, 0.4317839 ],\n       [0.45518935, 0.6215734 , 0.4582161 , 0.43909878],\n       [0.48267752, 0.50372946, 0.438952  , 0.43842757],\n       [0.46163228, 0.63037723, 0.4388064 , 0.43248263],\n       [0.47893324, 0.5419634 , 0.45772785, 0.4322247 ],\n       [0.5373705 , 0.5524304 , 0.45700634, 0.43245482],\n       [0.48718032, 0.58718497, 0.43178257, 0.44735634],\n       [0.45582563, 0.51452076, 0.44255114, 0.46273237],\n       [0.4440591 , 0.5803359 , 0.43950102, 0.43417686],\n       [0.44126722, 0.5544707 , 0.48479894, 0.44848785],\n       [0.4836343 , 0.5271574 , 0.46472716, 0.43645367],\n       [0.4969583 , 0.5380063 , 0.43956444, 0.43613917],\n       [0.4583306 , 0.6674039 , 0.43846798, 0.43499735],\n       [0.4550237 , 0.60820377, 0.46473438, 0.4391298 ],\n       [0.46428883, 0.50999975, 0.4461565 , 0.4405293 ],\n       [0.44368216, 0.57191575, 0.45310017, 0.44374168],\n       [0.44544643, 0.52348644, 0.43453628, 0.44074222],\n       [0.46052912, 0.52356976, 0.45449615, 0.44381943],\n       [0.45429373, 0.5332437 , 0.4386337 , 0.4487408 ],\n       [0.46066144, 0.57794946, 0.4669651 , 0.4402159 ],\n       [0.5379899 , 0.6178147 , 0.44495705, 0.43185785],\n       [0.46535364, 0.5169686 , 0.45602   , 0.45181048],\n       [0.54317176, 0.5399047 , 0.46727383, 0.4347035 ],\n       [0.49642292, 0.5708394 , 0.45245948, 0.4321268 ],\n       [0.4980659 , 0.5937561 , 0.4520718 , 0.43646017],\n       [0.45953253, 0.52985597, 0.50736046, 0.44232935],\n       [0.45731282, 0.5656813 , 0.45499212, 0.44558877],\n       [0.47734988, 0.4918364 , 0.45751506, 0.43586278],\n       [0.4574036 , 0.53064394, 0.49653846, 0.43394575],\n       [0.43944386, 0.587983  , 0.49872047, 0.44240662],\n       [0.47917816, 0.54161954, 0.45709145, 0.43973628],\n       [0.50947577, 0.5414053 , 0.44627368, 0.4313662 ],\n       [0.47124195, 0.5098372 , 0.4653458 , 0.4400163 ],\n       [0.43852124, 0.56916094, 0.45197082, 0.43771622]], dtype=float32)"
     },
     "execution_count": 16,
     "metadata": {},
     "output_type": "execute_result"
    }
   ],
   "source": [
    "test_mean[0].cpu().numpy()"
   ],
   "metadata": {
    "collapsed": false,
    "pycharm": {
     "name": "#%%\n"
    }
   }
  },
  {
   "cell_type": "code",
   "execution_count": 17,
   "outputs": [],
   "source": [
    "with torch.no_grad():\n",
    "    test_std = MODEL.get_std(test_latent)"
   ],
   "metadata": {
    "collapsed": false,
    "pycharm": {
     "name": "#%%\n"
    }
   }
  },
  {
   "cell_type": "code",
   "execution_count": 18,
   "outputs": [
    {
     "data": {
      "text/plain": "array([[0.7181406 , 0.72484815, 0.787713  , 0.8607458 ],\n       [0.69976115, 0.7003555 , 0.82031393, 0.8551404 ],\n       [0.7903768 , 0.7305795 , 0.74342024, 0.88760835],\n       [0.7200433 , 0.7294413 , 0.8122717 , 0.8635201 ],\n       [0.7473584 , 0.7091983 , 0.7604784 , 0.80489016],\n       [0.6962748 , 0.7432739 , 0.8214704 , 0.91067934],\n       [0.7337147 , 0.6941726 , 0.79076654, 0.87454516],\n       [0.77653056, 0.7217472 , 0.8813976 , 0.8278057 ],\n       [0.77316654, 0.7314873 , 0.75858974, 0.80655366],\n       [0.74464273, 0.68631893, 0.7662988 , 0.82410944],\n       [0.71258247, 0.77709174, 0.7318598 , 0.86048335],\n       [0.75681466, 0.70879364, 0.72987336, 0.75812316],\n       [0.7653966 , 0.7639707 , 0.76253873, 0.8888306 ],\n       [0.835681  , 0.7521084 , 0.7494852 , 0.8671004 ],\n       [0.7254023 , 0.7317365 , 0.79839486, 0.8133906 ],\n       [0.74730754, 0.7329521 , 0.7693707 , 0.7986905 ],\n       [0.76973236, 0.69859236, 0.7760682 , 0.85222226],\n       [0.7430782 , 0.70719   , 0.7741717 , 0.85627854],\n       [0.7706473 , 0.73542166, 0.7857243 , 0.86073446],\n       [0.75578594, 0.76590973, 0.7802259 , 0.84991807],\n       [0.7014386 , 0.76519346, 0.74282205, 0.8444978 ],\n       [0.7418323 , 0.75639087, 0.7776295 , 0.7958729 ],\n       [0.7793969 , 0.7359796 , 0.73547256, 0.81279933],\n       [0.7253938 , 0.82254183, 0.7641123 , 0.8129408 ],\n       [0.75666505, 0.72031534, 0.7434988 , 0.82492673],\n       [0.7350563 , 0.7381014 , 0.7640617 , 0.86754775],\n       [0.7283943 , 0.74203235, 0.81263924, 0.8772004 ],\n       [0.7698053 , 0.77971333, 0.7570029 , 0.8115871 ],\n       [0.768193  , 0.70793396, 0.7320156 , 0.804597  ],\n       [0.76109654, 0.6929177 , 0.77529556, 0.7501187 ],\n       [0.73105264, 0.77048206, 0.71750903, 0.7734442 ],\n       [0.7718662 , 0.7781808 , 0.78334326, 0.84088314],\n       [0.7231024 , 0.7369555 , 0.74549586, 0.7921124 ],\n       [0.7260266 , 0.75761735, 0.7590186 , 0.8724096 ],\n       [0.7606951 , 0.7529548 , 0.7707215 , 0.83501214],\n       [0.7691217 , 0.7677025 , 0.71992475, 0.7532669 ],\n       [0.78121275, 0.7147118 , 0.75641525, 0.79567695],\n       [0.73291093, 0.7454133 , 0.72473985, 0.8670135 ],\n       [0.7282553 , 0.7304415 , 0.7381481 , 0.7794259 ],\n       [0.73113906, 0.81129265, 0.7581338 , 0.90175176],\n       [0.7345492 , 0.717444  , 0.80152816, 0.8152333 ],\n       [0.76013565, 0.7255595 , 0.78626084, 0.83720464],\n       [0.7490969 , 0.7298842 , 0.73932266, 0.78536314],\n       [0.75198406, 0.7468041 , 0.81967795, 0.85080326],\n       [0.7106964 , 0.7609539 , 0.802166  , 0.8465057 ],\n       [0.70157707, 0.8568786 , 0.72723764, 0.86730343],\n       [0.71558744, 0.7825301 , 0.71140695, 0.8146341 ],\n       [0.73094016, 0.8305011 , 0.7419604 , 0.8508152 ],\n       [0.76994324, 0.7959101 , 0.7512812 , 0.8148862 ],\n       [0.7564068 , 0.7665197 , 0.799468  , 0.86151457],\n       [0.7336458 , 0.7297592 , 0.75541306, 0.8522081 ],\n       [0.7258699 , 0.76520365, 0.7965612 , 0.8583801 ],\n       [0.74558437, 0.72230244, 0.7538694 , 0.7708229 ],\n       [0.71723866, 0.7083444 , 0.79615384, 0.82981235],\n       [0.7917819 , 0.72961783, 0.7972012 , 0.8136595 ],\n       [0.73374325, 0.73858815, 0.7359548 , 0.87599987],\n       [0.74854064, 0.77341   , 0.7385456 , 0.84024584],\n       [0.7495486 , 0.7178065 , 0.749039  , 0.7741696 ],\n       [0.8094232 , 0.7600869 , 0.73617226, 0.86797816],\n       [0.75101525, 0.76817036, 0.7708289 , 0.8207884 ],\n       [0.79156953, 0.7549789 , 0.75010216, 0.79715294],\n       [0.7100506 , 0.7228019 , 0.75733346, 0.875621  ],\n       [0.7231271 , 0.7324353 , 0.8216928 , 0.7983705 ],\n       [0.7063255 , 0.7782977 , 0.7839111 , 0.8291349 ]], dtype=float32)"
     },
     "execution_count": 18,
     "metadata": {},
     "output_type": "execute_result"
    }
   ],
   "source": [
    "test_std[0].cpu().numpy()"
   ],
   "metadata": {
    "collapsed": false,
    "pycharm": {
     "name": "#%%\n"
    }
   }
  },
  {
   "cell_type": "code",
   "execution_count": 19,
   "outputs": [
    {
     "data": {
      "text/plain": "Linear(in_features=32, out_features=8, bias=False)"
     },
     "execution_count": 19,
     "metadata": {},
     "output_type": "execute_result"
    }
   ],
   "source": [
    "MODEL.mean_std"
   ],
   "metadata": {
    "collapsed": false,
    "pycharm": {
     "name": "#%%\n"
    }
   }
  },
  {
   "cell_type": "code",
   "execution_count": 20,
   "outputs": [
    {
     "data": {
      "text/plain": "torch.Size([10, 64, 32])"
     },
     "execution_count": 20,
     "metadata": {},
     "output_type": "execute_result"
    }
   ],
   "source": [
    "test_latent.shape"
   ],
   "metadata": {
    "collapsed": false,
    "pycharm": {
     "name": "#%%\n"
    }
   }
  },
  {
   "cell_type": "code",
   "execution_count": 21,
   "outputs": [],
   "source": [
    "with torch.no_grad():\n",
    "    test_dist, test_extra = MODEL.dist(test_mean, test_std, test_latent, verbose=2)"
   ],
   "metadata": {
    "collapsed": false,
    "pycharm": {
     "name": "#%%\n"
    }
   }
  },
  {
   "cell_type": "code",
   "execution_count": 22,
   "outputs": [
    {
     "data": {
      "text/plain": "False"
     },
     "execution_count": 22,
     "metadata": {},
     "output_type": "execute_result"
    }
   ],
   "source": [
    "test_dist is None"
   ],
   "metadata": {
    "collapsed": false,
    "pycharm": {
     "name": "#%%\n"
    }
   }
  },
  {
   "cell_type": "code",
   "execution_count": 23,
   "outputs": [
    {
     "ename": "KeyError",
     "evalue": "'corr_params'",
     "output_type": "error",
     "traceback": [
      "\u001B[1;31m---------------------------------------------------------------------------\u001B[0m",
      "\u001B[1;31mKeyError\u001B[0m                                  Traceback (most recent call last)",
      "Cell \u001B[1;32mIn[23], line 1\u001B[0m\n\u001B[1;32m----> 1\u001B[0m test_corr_params, test_corr_matrix, test_std_diag \u001B[38;5;241m=\u001B[39m \u001B[43mtest_extra\u001B[49m\u001B[43m[\u001B[49m\u001B[38;5;124;43m'\u001B[39;49m\u001B[38;5;124;43mcorr_params\u001B[39;49m\u001B[38;5;124;43m'\u001B[39;49m\u001B[43m]\u001B[49m, test_extra[\u001B[38;5;124m'\u001B[39m\u001B[38;5;124mcorr_matrix\u001B[39m\u001B[38;5;124m'\u001B[39m], test_extra[\u001B[38;5;124m'\u001B[39m\u001B[38;5;124mstd_diag\u001B[39m\u001B[38;5;124m'\u001B[39m]\n",
      "\u001B[1;31mKeyError\u001B[0m: 'corr_params'"
     ]
    }
   ],
   "source": [
    "test_corr_params, test_corr_matrix, test_std_diag = test_extra['corr_params'], test_extra['corr_matrix'], test_extra['std_diag']"
   ],
   "metadata": {
    "collapsed": false,
    "pycharm": {
     "name": "#%%\n"
    }
   }
  },
  {
   "cell_type": "code",
   "execution_count": null,
   "outputs": [],
   "source": [
    "test_corr_params[0, -1]"
   ],
   "metadata": {
    "collapsed": false,
    "pycharm": {
     "name": "#%%\n"
    }
   }
  },
  {
   "cell_type": "code",
   "execution_count": null,
   "outputs": [],
   "source": [
    "test_corr_matrix[0, -1]"
   ],
   "metadata": {
    "collapsed": false,
    "pycharm": {
     "name": "#%%\n"
    }
   }
  },
  {
   "cell_type": "code",
   "execution_count": null,
   "outputs": [],
   "source": [
    "test_std_diag[0, -1]"
   ],
   "metadata": {
    "collapsed": false,
    "pycharm": {
     "name": "#%%\n"
    }
   }
  },
  {
   "cell_type": "code",
   "execution_count": null,
   "outputs": [],
   "source": [
    "(test_std_diag @ test_std_diag)[0, -1]"
   ],
   "metadata": {
    "collapsed": false,
    "pycharm": {
     "name": "#%%\n"
    }
   }
  },
  {
   "cell_type": "code",
   "execution_count": null,
   "outputs": [],
   "source": [
    "(test_std_diag @ test_corr_matrix @ test_std_diag)[0, -1]"
   ],
   "metadata": {
    "collapsed": false,
    "pycharm": {
     "name": "#%%\n"
    }
   }
  },
  {
   "cell_type": "code",
   "execution_count": null,
   "outputs": [],
   "source": [
    "MODEL.single_mode(False)\n",
    "MODEL.single"
   ],
   "metadata": {
    "collapsed": false,
    "pycharm": {
     "name": "#%%\n"
    }
   }
  }
 ],
 "metadata": {
  "kernelspec": {
   "display_name": "Python 3",
   "language": "python",
   "name": "python3"
  },
  "language_info": {
   "codemirror_mode": {
    "name": "ipython",
    "version": 2
   },
   "file_extension": ".py",
   "mimetype": "text/x-python",
   "name": "python",
   "nbconvert_exporter": "python",
   "pygments_lexer": "ipython2",
   "version": "2.7.6"
  }
 },
 "nbformat": 4,
 "nbformat_minor": 0
}