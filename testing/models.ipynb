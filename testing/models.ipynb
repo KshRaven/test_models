{
 "cells": [
  {
   "cell_type": "markdown",
   "source": [
    "# 1. Imports"
   ],
   "metadata": {
    "collapsed": false,
    "pycharm": {
     "name": "#%% md\n"
    }
   }
  },
  {
   "cell_type": "code",
   "execution_count": 1,
   "metadata": {
    "collapsed": true,
    "pycharm": {
     "name": "#%%\n"
    }
   },
   "outputs": [],
   "source": [
    "from build import Reformer\n",
    "\n",
    "import torch\n",
    "import torch.nn as nn"
   ]
  },
  {
   "cell_type": "markdown",
   "source": [
    "# 2. Parameters"
   ],
   "metadata": {
    "collapsed": false,
    "pycharm": {
     "name": "#%% md\n"
    }
   }
  },
  {
   "cell_type": "code",
   "execution_count": 2,
   "outputs": [],
   "source": [
    "FEEDBACK = True\n",
    "INPUT_DIMS = 11\n",
    "OUTPUT_DIMS = 4\n",
    "FEEDBACK_DIMS = INPUT_DIMS+ (OUTPUT_DIMS+1 if FEEDBACK else 0)\n",
    "EMBED_SIZE = 32\n",
    "MAX_SEQ_LEN = 512\n",
    "LAYERS = 4\n",
    "HEADS = 1\n",
    "KV_HEADS = None\n",
    "DIFFERENTIAL = True\n",
    "BIAS = False"
   ],
   "metadata": {
    "collapsed": false,
    "pycharm": {
     "name": "#%%\n"
    }
   }
  },
  {
   "cell_type": "code",
   "execution_count": 3,
   "outputs": [],
   "source": [
    "DEVICE = 'cuda' if torch.cuda.is_available() else 'cpu'\n",
    "DTYPE = torch.float32"
   ],
   "metadata": {
    "collapsed": false,
    "pycharm": {
     "name": "#%%\n"
    }
   }
  },
  {
   "cell_type": "markdown",
   "source": [
    "# 3. Create model"
   ],
   "metadata": {
    "collapsed": false,
    "pycharm": {
     "name": "#%% md\n"
    }
   }
  },
  {
   "cell_type": "code",
   "execution_count": 4,
   "outputs": [],
   "source": [
    "MODEL = Reformer(INPUT_DIMS+FEEDBACK_DIMS, OUTPUT_DIMS, 1, EMBED_SIZE, MAX_SEQ_LEN, LAYERS, HEADS, KV_HEADS,\n",
    "                 DIFFERENTIAL, 0.1, BIAS, FEEDBACK, DEVICE, DTYPE,\n",
    "                 pri_actv=nn.SiLU(), sec_actv=nn.Sigmoid(), prob=False, dist='normal')"
   ],
   "metadata": {
    "collapsed": false,
    "pycharm": {
     "name": "#%%\n"
    }
   }
  },
  {
   "cell_type": "code",
   "execution_count": 5,
   "outputs": [],
   "source": [
    "MODEL.single_mode(False)"
   ],
   "metadata": {
    "collapsed": false,
    "pycharm": {
     "name": "#%%\n"
    }
   }
  },
  {
   "cell_type": "markdown",
   "source": [
    "# 4. Create data"
   ],
   "metadata": {
    "collapsed": false,
    "pycharm": {
     "name": "#%% md\n"
    }
   }
  },
  {
   "cell_type": "code",
   "execution_count": 6,
   "outputs": [],
   "source": [
    "SEQ_LEN = 64\n",
    "RECORDS = 10"
   ],
   "metadata": {
    "collapsed": false,
    "pycharm": {
     "name": "#%%\n"
    }
   }
  },
  {
   "cell_type": "code",
   "execution_count": 7,
   "outputs": [],
   "source": [
    "train_inp = torch.randn(RECORDS, SEQ_LEN, INPUT_DIMS+FEEDBACK_DIMS).to(DEVICE, DTYPE)"
   ],
   "metadata": {
    "collapsed": false,
    "pycharm": {
     "name": "#%%\n"
    }
   }
  },
  {
   "cell_type": "markdown",
   "source": [
    "# Test"
   ],
   "metadata": {
    "collapsed": false,
    "pycharm": {
     "name": "#%% md\n"
    }
   }
  },
  {
   "cell_type": "code",
   "execution_count": 8,
   "outputs": [],
   "source": [
    "torch.cuda.empty_cache()"
   ],
   "metadata": {
    "collapsed": false,
    "pycharm": {
     "name": "#%%\n"
    }
   }
  },
  {
   "cell_type": "code",
   "execution_count": 9,
   "outputs": [],
   "source": [
    "with torch.no_grad():\n",
    "    test_policy, test_prob = MODEL.get_action(train_inp)"
   ],
   "metadata": {
    "collapsed": false,
    "pycharm": {
     "name": "#%%\n"
    }
   }
  },
  {
   "cell_type": "code",
   "execution_count": 10,
   "outputs": [
    {
     "data": {
      "text/plain": "array([[ 0.31315535,  1.4885674 ,  1.9157126 , -0.42636538],\n       [ 0.42192072,  0.7216093 , -0.7566068 ,  0.35240996],\n       [ 1.183352  ,  0.18598446,  0.52469844,  1.1271529 ],\n       [ 0.8829951 ,  0.08699873,  0.17565444,  0.921885  ]],\n      dtype=float32)"
     },
     "execution_count": 10,
     "metadata": {},
     "output_type": "execute_result"
    }
   ],
   "source": [
    "test_policy[0, -4:].cpu().numpy()"
   ],
   "metadata": {
    "collapsed": false,
    "pycharm": {
     "name": "#%%\n"
    }
   }
  },
  {
   "cell_type": "code",
   "execution_count": 11,
   "outputs": [
    {
     "data": {
      "text/plain": "array([[-0.67616236, -1.6321081 , -2.5279925 , -1.4023129 ],\n       [-0.6547201 , -0.58080894, -2.054491  , -0.5262951 ],\n       [-1.0431573 , -0.6434283 , -0.63612366, -1.0166552 ],\n       [-0.74163353, -0.7197501 , -0.7030773 , -0.78519225]],\n      dtype=float32)"
     },
     "execution_count": 11,
     "metadata": {},
     "output_type": "execute_result"
    }
   ],
   "source": [
    "test_prob[0, -4:].cpu().numpy()"
   ],
   "metadata": {
    "collapsed": false,
    "pycharm": {
     "name": "#%%\n"
    }
   }
  },
  {
   "cell_type": "code",
   "execution_count": 12,
   "outputs": [
    {
     "data": {
      "text/plain": "array([[-1.10805035e-01, -3.91961932e-02, -2.12976933e-01,\n         1.22021943e-01],\n       [-1.53779984e-05,  8.38030577e-02, -1.33778602e-01,\n         3.53544682e-01],\n       [ 1.26930714e-01,  1.01579577e-01,  3.81718278e-02,\n         3.38917822e-01],\n       [ 3.58568192e-01,  1.76797777e-01,  4.39589381e-01,\n         4.05766398e-01]], dtype=float32)"
     },
     "execution_count": 12,
     "metadata": {},
     "output_type": "execute_result"
    }
   ],
   "source": [
    "with torch.no_grad():\n",
    "    test_policy = MODEL(train_inp)\n",
    "test_policy[0, -4:].cpu().numpy()"
   ],
   "metadata": {
    "collapsed": false,
    "pycharm": {
     "name": "#%%\n"
    }
   }
  },
  {
   "cell_type": "code",
   "execution_count": 13,
   "outputs": [],
   "source": [
    "with torch.no_grad():\n",
    "    test_latent = MODEL.get_latent(MODEL.pol_proj, train_inp, single=False)"
   ],
   "metadata": {
    "collapsed": false,
    "pycharm": {
     "name": "#%%\n"
    }
   }
  },
  {
   "cell_type": "code",
   "execution_count": 14,
   "outputs": [],
   "source": [
    "with torch.no_grad():\n",
    "    test_mean = MODEL.get_mean(test_latent)"
   ],
   "metadata": {
    "collapsed": false,
    "pycharm": {
     "name": "#%%\n"
    }
   }
  },
  {
   "cell_type": "code",
   "execution_count": 15,
   "outputs": [
    {
     "data": {
      "text/plain": "array([[0.44488418, 0.45048523, 0.6008035 , 0.50486857],\n       [0.4825362 , 0.45154715, 0.53547   , 0.6276694 ],\n       [0.4698878 , 0.45722798, 0.51470953, 0.56414926],\n       [0.4633518 , 0.45819384, 0.59464437, 0.57283944],\n       [0.46823412, 0.44362444, 0.6136421 , 0.5506484 ],\n       [0.45120934, 0.45098773, 0.6221001 , 0.5413138 ],\n       [0.47960413, 0.4329936 , 0.5710971 , 0.47447306],\n       [0.49250448, 0.44657254, 0.5839204 , 0.570655  ],\n       [0.48740354, 0.45517468, 0.5883198 , 0.5405111 ],\n       [0.49157447, 0.44367963, 0.6003924 , 0.5817482 ],\n       [0.4753    , 0.45985132, 0.6135741 , 0.5414556 ],\n       [0.4953502 , 0.4457776 , 0.61071974, 0.5423265 ],\n       [0.5162331 , 0.46354803, 0.56420225, 0.54153186],\n       [0.4941462 , 0.45521453, 0.6219086 , 0.5538573 ],\n       [0.4886489 , 0.4434235 , 0.64752394, 0.54139715],\n       [0.4587053 , 0.43975934, 0.621249  , 0.5412699 ],\n       [0.4572217 , 0.4411254 , 0.6207407 , 0.552625  ],\n       [0.5064129 , 0.43935046, 0.5999683 , 0.5886148 ],\n       [0.50073385, 0.4626176 , 0.65946466, 0.5784778 ],\n       [0.4500577 , 0.4437967 , 0.59531784, 0.52782255],\n       [0.46504256, 0.4573888 , 0.6540096 , 0.5591274 ],\n       [0.4455791 , 0.48111612, 0.5885804 , 0.53570086],\n       [0.47531497, 0.4473999 , 0.66296065, 0.5106599 ],\n       [0.46772143, 0.46837795, 0.60669726, 0.5818377 ],\n       [0.45611823, 0.46674407, 0.67753583, 0.54680544],\n       [0.53796804, 0.4488576 , 0.57061076, 0.5768994 ],\n       [0.4907878 , 0.4401569 , 0.69375926, 0.5064375 ],\n       [0.47210655, 0.4618597 , 0.6521251 , 0.53154767],\n       [0.5439243 , 0.45400664, 0.5813948 , 0.5647936 ],\n       [0.5024532 , 0.4417271 , 0.66554505, 0.48760906],\n       [0.5138342 , 0.46186855, 0.59864116, 0.6119963 ],\n       [0.5021715 , 0.50126463, 0.5790404 , 0.55629885],\n       [0.45429066, 0.45347592, 0.593291  , 0.5582839 ],\n       [0.4923427 , 0.44152534, 0.6266329 , 0.5049974 ],\n       [0.48913404, 0.46326944, 0.6334627 , 0.5224809 ],\n       [0.5099372 , 0.44747266, 0.61203545, 0.5473881 ],\n       [0.48953438, 0.4498882 , 0.64420944, 0.5870788 ],\n       [0.5056387 , 0.45267493, 0.63298154, 0.51811236],\n       [0.48938245, 0.46895507, 0.56505907, 0.58191663],\n       [0.47775224, 0.45635816, 0.62719434, 0.56095046],\n       [0.4649655 , 0.4488156 , 0.6299107 , 0.54886645],\n       [0.45790905, 0.46149492, 0.605829  , 0.54239416],\n       [0.50260127, 0.52311015, 0.59831846, 0.50871354],\n       [0.48431048, 0.43706602, 0.6001874 , 0.57107645],\n       [0.5098877 , 0.47157302, 0.61735445, 0.5381228 ],\n       [0.4726138 , 0.4480267 , 0.6208458 , 0.569634  ],\n       [0.54190356, 0.4394824 , 0.6065346 , 0.516374  ],\n       [0.47588   , 0.46745494, 0.6156897 , 0.49345914],\n       [0.45918366, 0.4718962 , 0.67483634, 0.52336925],\n       [0.50643176, 0.4589434 , 0.605643  , 0.51972413],\n       [0.50035834, 0.44398206, 0.5995115 , 0.5373453 ],\n       [0.49578473, 0.45557985, 0.65905744, 0.56276715],\n       [0.45252958, 0.44930977, 0.5950263 , 0.587298  ],\n       [0.48541343, 0.44218746, 0.61375624, 0.552396  ],\n       [0.5212531 , 0.43955582, 0.6151311 , 0.4869369 ],\n       [0.5078848 , 0.45514736, 0.6023165 , 0.54573214],\n       [0.5005958 , 0.4477747 , 0.63564974, 0.4980567 ],\n       [0.54219925, 0.46524343, 0.62444377, 0.49292734],\n       [0.48466966, 0.46253926, 0.60525835, 0.5213343 ],\n       [0.4631417 , 0.45066917, 0.67154515, 0.5001398 ],\n       [0.48364478, 0.4401187 , 0.6555444 , 0.53337085],\n       [0.48134625, 0.44123945, 0.6965394 , 0.49931157],\n       [0.5053129 , 0.47258112, 0.51509297, 0.5484054 ],\n       [0.4979879 , 0.4630789 , 0.6229758 , 0.5709943 ]], dtype=float32)"
     },
     "execution_count": 15,
     "metadata": {},
     "output_type": "execute_result"
    }
   ],
   "source": [
    "test_mean[0].cpu().numpy()"
   ],
   "metadata": {
    "collapsed": false,
    "pycharm": {
     "name": "#%%\n"
    }
   }
  },
  {
   "cell_type": "code",
   "execution_count": 16,
   "outputs": [],
   "source": [
    "with torch.no_grad():\n",
    "    test_std = MODEL.get_std(test_latent)"
   ],
   "metadata": {
    "collapsed": false,
    "pycharm": {
     "name": "#%%\n"
    }
   }
  },
  {
   "cell_type": "code",
   "execution_count": 17,
   "outputs": [
    {
     "data": {
      "text/plain": "array([[0.69712293, 0.9076096 , 0.74140614, 0.72026736],\n       [0.6862685 , 0.8994848 , 0.7031754 , 0.71419966],\n       [0.6846762 , 0.85050637, 0.69768274, 0.7222807 ],\n       [0.684757  , 0.88155293, 0.71169007, 0.7059252 ],\n       [0.7145288 , 0.91787475, 0.7219237 , 0.7128739 ],\n       [0.6877118 , 0.8985749 , 0.7066095 , 0.7120015 ],\n       [0.70035946, 0.8709994 , 0.73345464, 0.7265952 ],\n       [0.6900642 , 0.88900787, 0.69407654, 0.7442038 ],\n       [0.6933506 , 0.86473525, 0.71072465, 0.721922  ],\n       [0.69135827, 0.90861195, 0.70091754, 0.7074975 ],\n       [0.6885493 , 0.8785931 , 0.70137423, 0.7128997 ],\n       [0.69341964, 0.85316217, 0.7173903 , 0.6983367 ],\n       [0.68232435, 0.9235999 , 0.69678205, 0.7085387 ],\n       [0.6932842 , 0.91135967, 0.7084982 , 0.7241763 ],\n       [0.6925472 , 0.8946854 , 0.7315603 , 0.7725883 ],\n       [0.6964093 , 0.90416276, 0.7388962 , 0.72595763],\n       [0.68400955, 0.8595813 , 0.7218003 , 0.7703309 ],\n       [0.69406813, 0.9251643 , 0.7252031 , 0.7138066 ],\n       [0.68313515, 0.9202084 , 0.710428  , 0.69898707],\n       [0.69166005, 0.8159313 , 0.72511125, 0.78890496],\n       [0.68732345, 0.8957956 , 0.7012727 , 0.74954045],\n       [0.6863838 , 0.85306126, 0.7131806 , 0.7472433 ],\n       [0.6861053 , 0.8288077 , 0.711746  , 0.72366565],\n       [0.69528645, 0.92714125, 0.6996535 , 0.71930426],\n       [0.6924841 , 0.8827134 , 0.7016345 , 0.7203065 ],\n       [0.6945576 , 0.9183689 , 0.7029174 , 0.72557527],\n       [0.6895454 , 0.90302527, 0.7013038 , 0.7446581 ],\n       [0.6882004 , 0.9169961 , 0.7179881 , 0.715027  ],\n       [0.69596446, 0.91336054, 0.6985848 , 0.7151765 ],\n       [0.69461554, 0.8729264 , 0.71142226, 0.7447416 ],\n       [0.6864601 , 0.9136373 , 0.6944663 , 0.7298413 ],\n       [0.6889479 , 0.89118505, 0.692085  , 0.7403472 ],\n       [0.6895815 , 0.8489529 , 0.70283574, 0.72592425],\n       [0.6916353 , 0.85373515, 0.7070601 , 0.7311138 ],\n       [0.6962079 , 0.8793592 , 0.7266716 , 0.7188286 ],\n       [0.69254166, 0.9054916 , 0.70042825, 0.71731687],\n       [0.688476  , 0.88752073, 0.7083907 , 0.7381997 ],\n       [0.6836504 , 0.87569   , 0.7088303 , 0.70997685],\n       [0.6971928 , 0.9103948 , 0.71212643, 0.7087204 ],\n       [0.68755287, 0.92924017, 0.69071263, 0.69953424],\n       [0.6909033 , 0.85747147, 0.7021544 , 0.75260675],\n       [0.6878302 , 0.8241099 , 0.70335823, 0.7890993 ],\n       [0.6961672 , 0.863932  , 0.69248086, 0.7219578 ],\n       [0.708478  , 0.88304436, 0.72935253, 0.70126086],\n       [0.69546914, 0.8829432 , 0.6945496 , 0.6993813 ],\n       [0.7002976 , 0.88328296, 0.7037743 , 0.703836  ],\n       [0.70535576, 0.89635116, 0.70938945, 0.7378522 ],\n       [0.69008756, 0.8918074 , 0.7018063 , 0.78942895],\n       [0.69719666, 0.88745517, 0.7100037 , 0.8025354 ],\n       [0.6957962 , 0.9182217 , 0.7013551 , 0.74813277],\n       [0.7215041 , 0.8534781 , 0.73082656, 0.69375217],\n       [0.69141424, 0.89416754, 0.72283846, 0.71217513],\n       [0.69627035, 0.91523224, 0.73793894, 0.704969  ],\n       [0.6900948 , 0.9228848 , 0.7114107 , 0.72980726],\n       [0.7028013 , 0.8211273 , 0.7112028 , 0.7128108 ],\n       [0.69281805, 0.9197535 , 0.71109426, 0.7095327 ],\n       [0.6854624 , 0.86788946, 0.7073858 , 0.75109416],\n       [0.68722683, 0.87961376, 0.7050096 , 0.7044847 ],\n       [0.6984374 , 0.9267776 , 0.73887753, 0.7276826 ],\n       [0.69129384, 0.87789804, 0.74036735, 0.7639563 ],\n       [0.6915363 , 0.8884772 , 0.72975856, 0.7108469 ],\n       [0.687646  , 0.8823068 , 0.70359826, 0.7415449 ],\n       [0.6855759 , 0.8933994 , 0.69241756, 0.71040404],\n       [0.68981767, 0.930821  , 0.7112764 , 0.70744884]], dtype=float32)"
     },
     "execution_count": 17,
     "metadata": {},
     "output_type": "execute_result"
    }
   ],
   "source": [
    "test_std[0].cpu().numpy()"
   ],
   "metadata": {
    "collapsed": false,
    "pycharm": {
     "name": "#%%\n"
    }
   }
  },
  {
   "cell_type": "code",
   "execution_count": 18,
   "outputs": [
    {
     "data": {
      "text/plain": "Linear(in_features=32, out_features=8, bias=False)"
     },
     "execution_count": 18,
     "metadata": {},
     "output_type": "execute_result"
    }
   ],
   "source": [
    "MODEL.mean_std"
   ],
   "metadata": {
    "collapsed": false,
    "pycharm": {
     "name": "#%%\n"
    }
   }
  },
  {
   "cell_type": "code",
   "execution_count": 19,
   "outputs": [
    {
     "data": {
      "text/plain": "torch.Size([10, 64, 32])"
     },
     "execution_count": 19,
     "metadata": {},
     "output_type": "execute_result"
    }
   ],
   "source": [
    "test_latent.shape"
   ],
   "metadata": {
    "collapsed": false,
    "pycharm": {
     "name": "#%%\n"
    }
   }
  },
  {
   "cell_type": "code",
   "execution_count": 20,
   "outputs": [],
   "source": [
    "with torch.no_grad():\n",
    "    test_dist, test_extra = MODEL.dist(test_mean, test_std, test_latent, verbose=2)"
   ],
   "metadata": {
    "collapsed": false,
    "pycharm": {
     "name": "#%%\n"
    }
   }
  },
  {
   "cell_type": "code",
   "execution_count": 21,
   "outputs": [
    {
     "data": {
      "text/plain": "False"
     },
     "execution_count": 21,
     "metadata": {},
     "output_type": "execute_result"
    }
   ],
   "source": [
    "test_dist is None"
   ],
   "metadata": {
    "collapsed": false,
    "pycharm": {
     "name": "#%%\n"
    }
   }
  },
  {
   "cell_type": "code",
   "execution_count": 22,
   "outputs": [
    {
     "ename": "KeyError",
     "evalue": "'corr_params'",
     "output_type": "error",
     "traceback": [
      "\u001B[1;31m---------------------------------------------------------------------------\u001B[0m",
      "\u001B[1;31mKeyError\u001B[0m                                  Traceback (most recent call last)",
      "Cell \u001B[1;32mIn[22], line 1\u001B[0m\n\u001B[1;32m----> 1\u001B[0m test_corr_params, test_corr_matrix, test_std_diag \u001B[38;5;241m=\u001B[39m \u001B[43mtest_extra\u001B[49m\u001B[43m[\u001B[49m\u001B[38;5;124;43m'\u001B[39;49m\u001B[38;5;124;43mcorr_params\u001B[39;49m\u001B[38;5;124;43m'\u001B[39;49m\u001B[43m]\u001B[49m, test_extra[\u001B[38;5;124m'\u001B[39m\u001B[38;5;124mcorr_matrix\u001B[39m\u001B[38;5;124m'\u001B[39m], test_extra[\u001B[38;5;124m'\u001B[39m\u001B[38;5;124mstd_diag\u001B[39m\u001B[38;5;124m'\u001B[39m]\n",
      "\u001B[1;31mKeyError\u001B[0m: 'corr_params'"
     ]
    }
   ],
   "source": [
    "test_corr_params, test_corr_matrix, test_std_diag = test_extra['corr_params'], test_extra['corr_matrix'], test_extra['std_diag']"
   ],
   "metadata": {
    "collapsed": false,
    "pycharm": {
     "name": "#%%\n"
    }
   }
  },
  {
   "cell_type": "code",
   "execution_count": null,
   "outputs": [],
   "source": [
    "test_corr_params[0, -1]"
   ],
   "metadata": {
    "collapsed": false,
    "pycharm": {
     "name": "#%%\n"
    }
   }
  },
  {
   "cell_type": "code",
   "execution_count": null,
   "outputs": [],
   "source": [
    "test_corr_matrix[0, -1]"
   ],
   "metadata": {
    "collapsed": false,
    "pycharm": {
     "name": "#%%\n"
    }
   }
  },
  {
   "cell_type": "code",
   "execution_count": null,
   "outputs": [],
   "source": [
    "test_std_diag[0, -1]"
   ],
   "metadata": {
    "collapsed": false,
    "pycharm": {
     "name": "#%%\n"
    }
   }
  },
  {
   "cell_type": "code",
   "execution_count": null,
   "outputs": [],
   "source": [
    "(test_std_diag @ test_std_diag)[0, -1]"
   ],
   "metadata": {
    "collapsed": false,
    "pycharm": {
     "name": "#%%\n"
    }
   }
  },
  {
   "cell_type": "code",
   "execution_count": null,
   "outputs": [],
   "source": [
    "(test_std_diag @ test_corr_matrix @ test_std_diag)[0, -1]"
   ],
   "metadata": {
    "collapsed": false,
    "pycharm": {
     "name": "#%%\n"
    }
   }
  },
  {
   "cell_type": "code",
   "execution_count": null,
   "outputs": [],
   "source": [
    "MODEL.single_mode(False)\n",
    "MODEL.single"
   ],
   "metadata": {
    "collapsed": false,
    "pycharm": {
     "name": "#%%\n"
    }
   }
  }
 ],
 "metadata": {
  "kernelspec": {
   "display_name": "Python 3",
   "language": "python",
   "name": "python3"
  },
  "language_info": {
   "codemirror_mode": {
    "name": "ipython",
    "version": 2
   },
   "file_extension": ".py",
   "mimetype": "text/x-python",
   "name": "python",
   "nbconvert_exporter": "python",
   "pygments_lexer": "ipython2",
   "version": "2.7.6"
  }
 },
 "nbformat": 4,
 "nbformat_minor": 0
}